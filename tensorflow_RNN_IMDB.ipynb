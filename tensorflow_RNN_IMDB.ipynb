{
  "cells": [
    {
      "cell_type": "markdown",
      "metadata": {
        "id": "view-in-github",
        "colab_type": "text"
      },
      "source": [
        "<a href=\"https://colab.research.google.com/github/rohjaehyung/courseworks/blob/main/tensorflow_RNN_IMDB.ipynb\" target=\"_parent\"><img src=\"https://colab.research.google.com/assets/colab-badge.svg\" alt=\"Open In Colab\"/></a>"
      ]
    },
    {
      "cell_type": "code",
      "execution_count": null,
      "metadata": {
        "id": "7uP-Kv6aIMrG",
        "colab": {
          "base_uri": "https://localhost:8080/"
        },
        "outputId": "5eaa9445-ccef-4c71-cafe-be4c74176d5d"
      },
      "outputs": [
        {
          "output_type": "stream",
          "name": "stdout",
          "text": [
            "Colab only includes TensorFlow 2.x; %tensorflow_version has no effect.\n",
            "Looking in indexes: https://pypi.org/simple, https://us-python.pkg.dev/colab-wheels/public/simple/\n",
            "Requirement already satisfied: numpy in /usr/local/lib/python3.10/dist-packages (1.22.4)\n"
          ]
        }
      ],
      "source": [
        "%tensorflow_version 2.8.0\n",
        "%matplotlib inline\n",
        "import warnings\n",
        "warnings.filterwarnings('ignore')\n",
        "\n",
        "import tensorflow as tf\n",
        "tf.autograph.set_verbosity(0)\n",
        "\n",
        "import keras\n",
        "keras.__version__\n",
        "\n",
        "!pip install numpy\n",
        "import numpy as np\n",
        "\n",
        "import random\n",
        "seed = 32\n",
        "random.seed(seed)\n",
        "np.random.seed(seed)\n",
        "tf.random.set_seed(seed)"
      ]
    },
    {
      "cell_type": "markdown",
      "metadata": {
        "id": "UqA9pV73HoUg"
      },
      "source": [
        "# MSIS579 Lab4: Recurrent Neural Networks to Movie Review Sentiment Analysis\n",
        "\n",
        "Another popular and powerful way to associate a vector with a word is the use of dense \"word vectors\", also called \"word embeddings\". \n",
        "While the vectors obtained through one-hot encoding are binary, sparse (mostly made of zeros) and very high-dimensional (same dimensionality as the \n",
        "number of words in the vocabulary), \"word embeddings\" are low-dimensional floating point vectors \n",
        "(i.e. \"dense\" vectors, as opposed to sparse vectors). \n",
        "Unlike word vectors obtained via one-hot encoding, word embeddings are learned from data. \n",
        "It is common to see word embeddings that are 256-dimensional, 512-dimensional, or 1024-dimensional when dealing with very large vocabularies. \n",
        "On the other hand, one-hot encoding words generally leads to vectors that are 20,000-dimensional or higher (capturing a vocabulary of 20,000 \n",
        "token in this case). So, word embeddings pack more information into far fewer dimensions. "
      ]
    },
    {
      "cell_type": "markdown",
      "metadata": {
        "id": "CnhePEwoHoUh"
      },
      "source": [
        "<img src=\"https://s3.amazonaws.com/book.keras.io/img/ch6/word_embeddings.png\" alt=\"word embeddings vs. one hot encoding\" width=\"400\"/>\n"
      ]
    },
    {
      "cell_type": "markdown",
      "metadata": {
        "id": "XNUkdDUlHoUi"
      },
      "source": [
        "We can learn the word embeddings jointly with the main task you care about (e.g. document classification or sentiment prediction). In this setup, you would start with random word vectors, then learn your word vectors in the same way that you learn the weights of a neural network."
      ]
    },
    {
      "cell_type": "markdown",
      "metadata": {
        "id": "TgJt_Q8iHoUi"
      },
      "source": [
        "## Learning word embeddings with the `Embedding` layer\n",
        "\n",
        "\n",
        "The simplest way to associate a dense vector to a word would be to pick the vector at random. The problem with this approach is that the \n",
        "resulting embedding space would have no structure: for instance, the words \"accurate\" and \"exact\" may end up with completely different \n",
        "embeddings, even though they are interchangeable in most sentences. It would be very difficult for a deep neural network to make sense of \n",
        "such a noisy, unstructured embedding space. \n",
        "\n",
        "To get a bit more abstract: the geometric relationships between word vectors should reflect the semantic relationships between these words. \n",
        "Word embeddings are meant to map human language into a geometric space. For instance, in a reasonable embedding space, we would expect \n",
        "synonyms to be embedded into similar word vectors, and in general we would expect the geometric distance (e.g. L2 distance) between any two \n",
        "word vectors to relate to the semantic distance of the associated words (words meaning very different things would be embedded to points \n",
        "far away from each other, while related words would be closer). Even beyond mere distance, we may want specific __directions__ in the \n",
        "embedding space to be meaningful. \n",
        "\n",
        "It is possible to take a learned embedding for a given language as the starting point, which relies on their transfer learning ability. Most of such embeddings are learned by pre-training of large language model, such as Bert, Roberta, or others. However, it is still necessary to further fine-tune those embeddings with a given task as embeddings depend on task as well. For example, the perfect word embedding space for an \n",
        "English-language movie review sentiment analysis model may look very different from the perfect embedding space for an English-language \n",
        "legal document classification model. \n",
        "\n",
        "For this lab, we are still going to still __learn__ a new embedding space with every new task. Thankfully, backpropagation makes this really easy, and Keras makes it \n",
        "even easier. It's just about learning the weights of a layer: the `Embedding` layer."
      ]
    },
    {
      "cell_type": "code",
      "execution_count": null,
      "metadata": {
        "id": "e0PTP5CKHoUj"
      },
      "outputs": [],
      "source": [
        "from keras.layers import Embedding\n",
        "\n",
        "embedding_size = 32\n",
        "# The Embedding layer takes at least two arguments:\n",
        "# the number of possible tokens, here 1000 (1 + maximum word index),\n",
        "# and the dimensionality of the embeddings, here 32.\n",
        "embedding_layer = Embedding(10000, embedding_size)"
      ]
    },
    {
      "cell_type": "markdown",
      "metadata": {
        "id": "hgFk2dBkHoUl"
      },
      "source": [
        "\n",
        "The `Embedding` layer is best understood as a dictionary mapping integer indices (which stand for specific words) to dense vectors. It takes \n",
        "as input integers, it looks up these integers into an internal dictionary, and it returns the associated vectors. It's effectively a dictionary lookup."
      ]
    },
    {
      "cell_type": "markdown",
      "metadata": {
        "id": "uxYj8OkJHoUl"
      },
      "source": [
        "\n",
        "The `Embedding` layer takes as input a 2D tensor of integers, of shape `(samples, sequence_length)`, where each entry is a sequence of \n",
        "integers. It can embed sequences of variable lengths, so for instance we could feed into our embedding layer above batches that could have \n",
        "shapes `(32, 10)` (batch of 32 sequences of length 10). All sequences in a batch must \n",
        "have the same length (since we need to pack them into a single tensor), so sequences that are shorter than others should be padded \n",
        "with zeros, and sequences that are longer should be truncated.\n",
        "\n",
        "This layer returns a 3D floating point tensor, of shape `(samples, sequence_length, embedding_dimensionality)`. Such a 3D tensor can then \n",
        "be processed by a RNN layer.\n",
        "\n",
        "When you instantiate an `Embedding` layer, its weights (its internal dictionary of token vectors) are randomly initialized, just like with any \n",
        "other layer. During training, these embedding vectors will be gradually learned via backpropagation, structuring the space into something that the \n",
        "downstream model can exploit. Once fully trained, your embedding space will show a lot of structure -- a kind of structure specialized for \n",
        "the specific problem you were training your model for.\n",
        "\n",
        "Let's apply this idea to the IMDB movie review sentiment prediction task that you are already familiar with. Let's quickly prepare \n",
        "the data. We will restrict the movie reviews to the top 10,000 most common words (like we did the first time we worked with this dataset), \n",
        "and cut the reviews after 200 words. Our network will simply learn 32-dimensional embeddings for each of the 10,000 words, turn the \n",
        "input integer sequences (2D integer tensor) into embedded sequences (3D float tensor), flatten the tensor to 2D, and train a single `Dense` \n",
        "layer on top for classification."
      ]
    },
    {
      "cell_type": "code",
      "execution_count": null,
      "metadata": {
        "id": "3sJPeXcnHoUm",
        "colab": {
          "base_uri": "https://localhost:8080/"
        },
        "outputId": "c5a61934-e213-4565-9cd9-93f5af5ba03f"
      },
      "outputs": [
        {
          "output_type": "stream",
          "name": "stdout",
          "text": [
            "Downloading data from https://storage.googleapis.com/tensorflow/tf-keras-datasets/imdb.npz\n",
            "17464789/17464789 [==============================] - 2s 0us/step\n",
            "25000 train sequences\n",
            "25000 test sequences\n",
            "input_test ids: [1, 591, 202, 14, 31, 6, 717, 10, 10, 2, 2, 5, 4, 360, 7, 4, 177, 5760, 394, 354, 4, 123, 9, 1035, 1035, 1035, 10, 10, 13, 92, 124, 89, 488, 7944, 100, 28, 1668, 14, 31, 23, 27, 7479, 29, 220, 468, 8, 124, 14, 286, 170, 8, 157, 46, 5, 27, 239, 16, 179, 2, 38, 32, 25, 7944, 451, 202, 14, 6, 717]\n",
            "Pad sequences (samples x time)\n",
            "input_train shape: (25000, 50)\n",
            "input_test shape: (25000, 50)\n"
          ]
        }
      ],
      "source": [
        "from keras.datasets import imdb\n",
        "from tensorflow.keras import preprocessing\n",
        "\n",
        "num_words = 10000\n",
        "# Cut texts after this number of words \n",
        "maxlen = 50\n",
        "\n",
        "# Load the data as lists of integers.\n",
        "(x_train, y_train), (x_test, y_test) = imdb.load_data(num_words=num_words)\n",
        "print(len(x_train), 'train sequences')\n",
        "print(len(x_test), 'test sequences')\n",
        "\n",
        "print(f\"input_test ids: {x_test[0]}\")\n",
        "\n",
        "# This turns our lists of integers\n",
        "# into a 2D integer tensor of shape `(samples, maxlen)`\n",
        "print('Pad sequences (samples x time)')\n",
        "x_train = preprocessing.sequence.pad_sequences(x_train, maxlen=maxlen)\n",
        "x_test = preprocessing.sequence.pad_sequences(x_test, maxlen=maxlen)\n",
        "print('input_train shape:', x_train.shape)\n",
        "print('input_test shape:', x_test.shape)"
      ]
    },
    {
      "cell_type": "markdown",
      "metadata": {
        "id": "cZvvusy0DD2S"
      },
      "source": [
        "First three word index are reserved for special tokens <PAD>, <START>, and <UNK>. So we would need to offset the word index by 3."
      ]
    },
    {
      "cell_type": "code",
      "execution_count": null,
      "metadata": {
        "id": "OuXwxE-75wk0",
        "colab": {
          "base_uri": "https://localhost:8080/"
        },
        "outputId": "7ad413fa-d1e0-44c4-8c54-f3760dd45ab5"
      },
      "outputs": [
        {
          "output_type": "stream",
          "name": "stdout",
          "text": [
            "boobs and <UNK> taking away bodies and the gym still doesn't close for <UNK> all joking aside this is a truly bad film whose only charm is to look back on the disaster that was the 80's and have a good old laugh at how bad everything was back then\n",
            "0\n"
          ]
        }
      ],
      "source": [
        "# Convert encoded review to words\n",
        "INDEX_FROM=3   # word index offset\n",
        "\n",
        "word_to_id = keras.datasets.imdb.get_word_index()\n",
        "word_to_id = {k:(v+INDEX_FROM) for k,v in word_to_id.items()}\n",
        "word_to_id['<PAD>'] = 0\n",
        "word_to_id['<START>'] = 1\n",
        "word_to_id['<UNK>'] = 2\n",
        "id_to_word = {value:key for key,value in word_to_id.items()}\n",
        "\n",
        "def decode_from_id(example):\n",
        "  return(' '.join(id_to_word[id] for id in example ))\n",
        "\n",
        "print(decode_from_id(x_train[1]))\n",
        "print(y_train[1])"
      ]
    },
    {
      "cell_type": "code",
      "execution_count": null,
      "metadata": {
        "id": "MROjQpoiHoUp",
        "colab": {
          "base_uri": "https://localhost:8080/"
        },
        "outputId": "a36a24f0-3a53-4467-afbc-c042a8e032fc"
      },
      "outputs": [
        {
          "output_type": "stream",
          "name": "stdout",
          "text": [
            "Epoch 1/4\n",
            "625/625 [==============================] - 15s 22ms/step - loss: 0.5137 - acc: 0.7347 - val_loss: 0.4272 - val_acc: 0.8042\n",
            "Epoch 2/4\n",
            "625/625 [==============================] - 4s 6ms/step - loss: 0.3080 - acc: 0.8689 - val_loss: 0.4577 - val_acc: 0.7954\n",
            "Epoch 3/4\n",
            "625/625 [==============================] - 3s 4ms/step - loss: 0.1560 - acc: 0.9428 - val_loss: 0.5834 - val_acc: 0.7776\n",
            "Epoch 4/4\n",
            "625/625 [==============================] - 3s 5ms/step - loss: 0.0468 - acc: 0.9863 - val_loss: 0.8250 - val_acc: 0.7650\n",
            "Model: \"sequential_1\"\n",
            "_________________________________________________________________\n",
            " Layer (type)                Output Shape              Param #   \n",
            "=================================================================\n",
            " embedding_2 (Embedding)     (None, 50, 32)            320000    \n",
            "                                                                 \n",
            " flatten_1 (Flatten)         (None, 1600)              0         \n",
            "                                                                 \n",
            " dense_2 (Dense)             (None, 128)               204928    \n",
            "                                                                 \n",
            " dense_3 (Dense)             (None, 1)                 129       \n",
            "                                                                 \n",
            "=================================================================\n",
            "Total params: 525,057\n",
            "Trainable params: 525,057\n",
            "Non-trainable params: 0\n",
            "_________________________________________________________________\n"
          ]
        }
      ],
      "source": [
        "from keras.models import Sequential\n",
        "from keras.layers import Flatten, Dense\n",
        "\n",
        "model = Sequential()\n",
        "\n",
        "# TODO: add embedding layer\n",
        "# We specify the maximum input length to our Embedding layer\n",
        "# so we can later flatten the embedded inputs\n",
        "model.add(Embedding(num_words, embedding_size, input_length = maxlen))\n",
        "\n",
        "\n",
        "# TODO: add flatten layer\n",
        "# After the Embedding layer, our activations have shape `(samples, maxlen, 32)`.\n",
        "# We flatten the 3D tensor of embeddings into a 2D tensor of shape `(samples, maxlen * 32)`\n",
        "model.add(Flatten())\n",
        "\n",
        "# TODO: add another dense layer with 128 hidden units\n",
        "model.add(Dense(128, activation ='relu'))\n",
        "\n",
        "# TODO: add the final sigmoid layer to output the binary prediction\n",
        "# We add the classifier on top\n",
        "model.add(Dense(1, activation ='sigmoid'))\n",
        "\n",
        "# TODO: compile the model and output the model summary\n",
        "model.compile(optimizer='rmsprop', loss = 'binary_crossentropy', metrics=['acc'])\n",
        "\n",
        "# TODO: start training the model\n",
        "history = model.fit(\n",
        "    x_train,\n",
        "    y_train,\n",
        "    epochs=4, \n",
        "    batch_size = 32,\n",
        "    validation_split = 0.2\n",
        ")\n",
        "model.summary()"
      ]
    },
    {
      "cell_type": "code",
      "execution_count": null,
      "metadata": {
        "id": "vha_t-bqEDFW",
        "colab": {
          "base_uri": "https://localhost:8080/"
        },
        "outputId": "627381b0-1e3e-4f7b-abc1-2a6e3c41dcf0"
      },
      "outputs": [
        {
          "output_type": "stream",
          "name": "stdout",
          "text": [
            "782/782 [==============================] - 2s 3ms/step - loss: 0.7862 - acc: 0.7708\n"
          ]
        },
        {
          "output_type": "execute_result",
          "data": {
            "text/plain": [
              "[0.7862396240234375, 0.770799994468689]"
            ]
          },
          "metadata": {},
          "execution_count": 8
        }
      ],
      "source": [
        "# TODO Evaluate model performance\n",
        "model.evaluate(x_test, y_test)"
      ]
    },
    {
      "cell_type": "markdown",
      "metadata": {
        "id": "iUcxwPlnHoUr"
      },
      "source": [
        "We get to a validation accuracy of ~76%, which is pretty good considering that we only use one embedding layer. But \n",
        "note that merely flattening the embedded sequences and training a single `Dense` layer on top leads to a model that treats each word in the \n",
        "input sequence separately, without considering inter-word relationships and structure sentence (e.g. it would likely treat both _\"this movie \n",
        "is shit\"_ and _\"this movie is the shit\"_ as being negative \"reviews\"). It would be much better to add recurrent layers or 1D convolutional \n",
        "layers on top of the embedded sequences to learn features that take into account each sequence as a whole. That's what we will focus on in \n",
        "the next few sections."
      ]
    },
    {
      "cell_type": "markdown",
      "metadata": {
        "id": "vAANamq9IMrL"
      },
      "source": [
        "## Recurrent Neural Networks\n",
        "\n"
      ]
    },
    {
      "cell_type": "markdown",
      "metadata": {
        "id": "iq_ynn7SIMrO"
      },
      "source": [
        "In Keras, RNN can be invoked by the API [`SimpleRNN`](https://keras.io/api/layers/recurrent_layers/simple_rnn/), which takes inputs of shape `(batch_size, timesteps, input_features)`.\n",
        "\n",
        "Like all recurrent layers in Keras, `SimpleRNN` can be run in two different modes: it can return either the full sequences of successive \n",
        "outputs for each timestep (a 3D tensor of shape `(batch_size, timesteps, output_features)`), or it can return only the last output for each \n",
        "input sequence (a 2D tensor of shape `(batch_size, output_features)`). These two modes are controlled by the `return_sequences` constructor \n",
        "argument."
      ]
    },
    {
      "cell_type": "markdown",
      "metadata": {
        "id": "6vkHIdmwIMra"
      },
      "source": [
        "Let's train a simple recurrent network using an `Embedding` layer and a `SimpleRNN` layer:"
      ]
    },
    {
      "cell_type": "code",
      "execution_count": null,
      "metadata": {
        "id": "0HMFJak0IMrb",
        "colab": {
          "base_uri": "https://localhost:8080/"
        },
        "outputId": "103e10c3-2052-42d3-d917-636eaa43e422"
      },
      "outputs": [
        {
          "output_type": "stream",
          "name": "stdout",
          "text": [
            "Epoch 1/4\n",
            "625/625 [==============================] - 48s 72ms/step - loss: 0.5200 - acc: 0.7330 - val_loss: 0.4614 - val_acc: 0.7832\n",
            "Epoch 2/4\n",
            "625/625 [==============================] - 30s 48ms/step - loss: 0.3651 - acc: 0.8407 - val_loss: 0.4357 - val_acc: 0.7978\n",
            "Epoch 3/4\n",
            "625/625 [==============================] - 29s 46ms/step - loss: 0.3002 - acc: 0.8785 - val_loss: 0.4599 - val_acc: 0.8032\n",
            "Epoch 4/4\n",
            "625/625 [==============================] - 29s 46ms/step - loss: 0.2265 - acc: 0.9120 - val_loss: 0.4677 - val_acc: 0.8024\n"
          ]
        }
      ],
      "source": [
        "from keras.models import Sequential\n",
        "from keras.layers import Dense, Embedding, SimpleRNN, Dropout\n",
        "\n",
        "# TODO: train a simple recurrent network using an Embedding layer and a SimpleRNN layer\n",
        "model = Sequential()\n",
        "model.add(Embedding(num_words, embedding_size, input_length = maxlen))\n",
        "model.add(SimpleRNN(32)) # do NOT need to FLATTEN\n",
        "model.add(Dense(1, activation = 'sigmoid'))\n",
        "\n",
        "model.compile(optimizer = 'rmsprop', loss = 'binary_crossentropy', metrics = ['acc'])\n",
        "history = model.fit(\n",
        "    x_train,\n",
        "    y_train,\n",
        "    epochs = 4,\n",
        "    batch_size = 32,\n",
        "    validation_split=0.2\n",
        ")"
      ]
    },
    {
      "cell_type": "code",
      "source": [
        "model.summary()"
      ],
      "metadata": {
        "colab": {
          "base_uri": "https://localhost:8080/"
        },
        "id": "HJO-2tFX-nil",
        "outputId": "e50c0529-0c8b-407f-b5a1-e483bc8de37c"
      },
      "execution_count": null,
      "outputs": [
        {
          "output_type": "stream",
          "name": "stdout",
          "text": [
            "Model: \"sequential_2\"\n",
            "_________________________________________________________________\n",
            " Layer (type)                Output Shape              Param #   \n",
            "=================================================================\n",
            " embedding_3 (Embedding)     (None, 50, 32)            320000    \n",
            "                                                                 \n",
            " simple_rnn (SimpleRNN)      (None, 32)                2080      \n",
            "                                                                 \n",
            " dense_4 (Dense)             (None, 1)                 33        \n",
            "                                                                 \n",
            "=================================================================\n",
            "Total params: 322,113\n",
            "Trainable params: 322,113\n",
            "Non-trainable params: 0\n",
            "_________________________________________________________________\n"
          ]
        }
      ]
    },
    {
      "cell_type": "code",
      "execution_count": null,
      "metadata": {
        "id": "cCm5EKa8JqEF",
        "colab": {
          "base_uri": "https://localhost:8080/"
        },
        "outputId": "1603d15c-e329-4c6e-e060-848a4742345a"
      },
      "outputs": [
        {
          "output_type": "stream",
          "name": "stdout",
          "text": [
            "782/782 [==============================] - 6s 8ms/step - loss: 0.4691 - acc: 0.8018\n"
          ]
        },
        {
          "output_type": "execute_result",
          "data": {
            "text/plain": [
              "[0.469145268201828, 0.801800012588501]"
            ]
          },
          "metadata": {},
          "execution_count": 10
        }
      ],
      "source": [
        "# TODO: evaluate model performance\n",
        "model.evaluate(x_test, y_test)"
      ]
    },
    {
      "cell_type": "markdown",
      "metadata": {
        "id": "sgOT4hbdIMrd"
      },
      "source": [
        "Let's display the training and validation loss and accuracy:"
      ]
    },
    {
      "cell_type": "code",
      "execution_count": null,
      "metadata": {
        "colab": {
          "base_uri": "https://localhost:8080/",
          "height": 887
        },
        "id": "sGra00XTIMre",
        "outputId": "7ff20c5d-ddce-43c0-c0e7-1215cf7d6c09"
      },
      "outputs": [
        {
          "output_type": "display_data",
          "data": {
            "text/plain": [
              "<Figure size 640x480 with 1 Axes>"
            ],
            "image/png": "[encoded data removed]"
          },
          "metadata": {}
        },
        {
          "output_type": "display_data",
          "data": {
            "text/plain": [
              "<Figure size 640x480 with 1 Axes>"
            ],
            "image/png": "[encoded data removed]"
          },
          "metadata": {}
        }
      ],
      "source": [
        "import matplotlib.pyplot as plt\n",
        "\n",
        "acc = history.history['acc']\n",
        "val_acc = history.history['val_acc']\n",
        "loss = history.history['loss']\n",
        "val_loss = history.history['val_loss']\n",
        "\n",
        "epochs = range(len(acc))\n",
        "\n",
        "plt.plot(epochs, acc, 'bo', label='Training acc')\n",
        "plt.plot(epochs, val_acc, 'b', label='Validation acc')\n",
        "plt.title('Training and validation accuracy')\n",
        "plt.legend()\n",
        "\n",
        "plt.figure()\n",
        "\n",
        "plt.plot(epochs, loss, 'bo', label='Training loss')\n",
        "plt.plot(epochs, val_loss, 'b', label='Validation loss')\n",
        "plt.title('Training and validation loss')\n",
        "plt.legend()\n",
        "\n",
        "plt.show()"
      ]
    },
    {
      "cell_type": "markdown",
      "metadata": {
        "id": "4Ld5gB0XIMrh"
      },
      "source": [
        "Our small recurrent network does better than the 1-layer NN with a 79% validation accuracy. Part of the problem is that `SimpleRNN` isn't very good at processing long sequences, like text. Other types of recurrent layers perform much better. Let's take a look at some \n",
        "more advanced layers."
      ]
    },
    {
      "cell_type": "markdown",
      "metadata": {
        "id": "UOU0al5RIMri"
      },
      "source": [
        "## Long short-term memory (LSTM)\n",
        "\n",
        "Long short-term memory (LSTM) is an artificial recurrent neural network (RNN) architecture used in the field of deep learning.\n",
        "\n",
        "Now let's switch to more practical concerns: we will set up a model using a LSTM layer and train it on the IMDB data. Here's the network, similar to the one with `SimpleRNN` that we just presented. We only specify the output dimensionality of the LSTM layer, and leave every \n",
        "other argument (there are lots) to the Keras defaults. Keras has good defaults, and things will almost always \"just work\" without you having to spend time tuning parameters by hand.\n",
        "\n",
        "Default weight initialization is Xavier uniform initialized. More inforamtion from [here](https://keras.rstudio.com/reference/initializer_glorot_uniform.html)"
      ]
    },
    {
      "cell_type": "code",
      "execution_count": null,
      "metadata": {
        "id": "Uk5l4qh0IMri",
        "colab": {
          "base_uri": "https://localhost:8080/"
        },
        "outputId": "893551a2-d87b-4133-fb1c-e11f9e6f4485"
      },
      "outputs": [
        {
          "output_type": "stream",
          "name": "stdout",
          "text": [
            "Epoch 1/4\n",
            "625/625 [==============================] - 18s 25ms/step - loss: 0.5120 - acc: 0.7335 - val_loss: 0.4250 - val_acc: 0.8004\n",
            "Epoch 2/4\n",
            "625/625 [==============================] - 6s 10ms/step - loss: 0.3641 - acc: 0.8395 - val_loss: 0.4116 - val_acc: 0.8058\n",
            "Epoch 3/4\n",
            "625/625 [==============================] - 6s 10ms/step - loss: 0.3209 - acc: 0.8654 - val_loss: 0.4112 - val_acc: 0.8094\n",
            "Epoch 4/4\n",
            "625/625 [==============================] - 5s 9ms/step - loss: 0.2913 - acc: 0.8795 - val_loss: 0.4282 - val_acc: 0.8108\n"
          ]
        }
      ],
      "source": [
        "from keras.layers import LSTM, Dropout\n",
        "\n",
        "model = Sequential()\n",
        "model.add(Embedding(num_words, embedding_size, input_length = maxlen))\n",
        "model.add(LSTM(32)) # Changed to LSTM\n",
        "model.add(Dense(1, activation = 'sigmoid'))\n",
        "\n",
        "model.compile(optimizer = 'rmsprop', loss = 'binary_crossentropy', metrics = ['acc'])\n",
        "history = model.fit(\n",
        "    x_train,\n",
        "    y_train,\n",
        "    epochs = 4,\n",
        "    batch_size = 32,\n",
        "    validation_split=0.2)"
      ]
    },
    {
      "cell_type": "code",
      "source": [
        "model.summary()"
      ],
      "metadata": {
        "colab": {
          "base_uri": "https://localhost:8080/"
        },
        "id": "FwWMKxpa_hV-",
        "outputId": "2ed77f59-9c39-468b-ff0e-bc9d9cc23337"
      },
      "execution_count": null,
      "outputs": [
        {
          "output_type": "stream",
          "name": "stdout",
          "text": [
            "Model: \"sequential_3\"\n",
            "_________________________________________________________________\n",
            " Layer (type)                Output Shape              Param #   \n",
            "=================================================================\n",
            " embedding_4 (Embedding)     (None, 50, 32)            320000    \n",
            "                                                                 \n",
            " lstm (LSTM)                 (None, 32)                8320      \n",
            "                                                                 \n",
            " dense_5 (Dense)             (None, 1)                 33        \n",
            "                                                                 \n",
            "=================================================================\n",
            "Total params: 328,353\n",
            "Trainable params: 328,353\n",
            "Non-trainable params: 0\n",
            "_________________________________________________________________\n"
          ]
        }
      ]
    },
    {
      "cell_type": "code",
      "execution_count": null,
      "metadata": {
        "id": "oQjcR9JaXeCG",
        "colab": {
          "base_uri": "https://localhost:8080/"
        },
        "outputId": "94b41ad2-744c-468c-dc9b-6e3e41ad203f"
      },
      "outputs": [
        {
          "output_type": "stream",
          "name": "stdout",
          "text": [
            "782/782 [==============================] - 4s 5ms/step - loss: 0.4216 - acc: 0.8121\n"
          ]
        },
        {
          "output_type": "execute_result",
          "data": {
            "text/plain": [
              "[0.42163729667663574, 0.8121200203895569]"
            ]
          },
          "metadata": {},
          "execution_count": 15
        }
      ],
      "source": [
        "# TODO: evaluate model performance\n",
        "model.evaluate(x_test, y_test)\n"
      ]
    },
    {
      "cell_type": "code",
      "execution_count": null,
      "metadata": {
        "colab": {
          "base_uri": "https://localhost:8080/",
          "height": 887
        },
        "id": "z5uLLOc0IMrk",
        "outputId": "1458ba70-af95-4ab3-a200-e0ea6cf1769a"
      },
      "outputs": [
        {
          "output_type": "display_data",
          "data": {
            "text/plain": [
              "<Figure size 640x480 with 1 Axes>"
            ],
            "image/png": "[encoded data removed]"
          },
          "metadata": {}
        },
        {
          "output_type": "display_data",
          "data": {
            "text/plain": [
              "<Figure size 640x480 with 1 Axes>"
            ],
            "image/png": "[encoded data removed]"
          },
          "metadata": {}
        }
      ],
      "source": [
        "acc = history.history['acc']\n",
        "val_acc = history.history['val_acc']\n",
        "loss = history.history['loss']\n",
        "val_loss = history.history['val_loss']\n",
        "\n",
        "epochs = range(len(acc))\n",
        "\n",
        "plt.plot(epochs, acc, 'bo', label='Training acc')\n",
        "plt.plot(epochs, val_acc, 'b', label='Validation acc')\n",
        "plt.title('Training and validation accuracy')\n",
        "plt.legend()\n",
        "\n",
        "plt.figure()\n",
        "\n",
        "plt.plot(epochs, loss, 'bo', label='Training loss')\n",
        "plt.plot(epochs, val_loss, 'b', label='Validation loss')\n",
        "plt.title('Training and validation loss')\n",
        "plt.legend()\n",
        "\n",
        "plt.show()"
      ]
    },
    {
      "cell_type": "markdown",
      "metadata": {
        "id": "RDUIGROe5bQd"
      },
      "source": [
        "## Extract the word embedding from RNN\n",
        "\n",
        "Finally, let's take a look at the word embedding learnt from the IMDB movie review dataset. \n"
      ]
    },
    {
      "cell_type": "code",
      "execution_count": null,
      "metadata": {
        "colab": {
          "base_uri": "https://localhost:8080/"
        },
        "id": "lLVkF5qc5hOy",
        "outputId": "4af4ce71-4d20-4b96-b548-7c8ab4a4591b"
      },
      "outputs": [
        {
          "output_type": "stream",
          "name": "stdout",
          "text": [
            "[ 0.1020254  -0.11133515 -0.06512475 -0.12132715 -0.04690867  0.04368679\n",
            "  0.06251776  0.1369157   0.07643537  0.05168532  0.09342684 -0.10226734\n",
            " -0.06360925 -0.02109631  0.11093818 -0.0316976   0.07228367 -0.08800288\n",
            " -0.07582361  0.02206151 -0.13073952 -0.07801857  0.08373477  0.16270173\n",
            " -0.12088078 -0.11570664  0.08204972 -0.12617557  0.11218762  0.0696826\n",
            "  0.13391928  0.0916687 ]\n",
            "[ 0.0580328  -0.02293076 -0.04807662 -0.02436868  0.06575866  0.07976539\n",
            "  0.02944522  0.04409318 -0.00736384  0.02143095  0.03686239  0.05553105\n",
            " -0.07590963  0.06959563  0.02259774  0.00106868  0.02288765 -0.06811185\n",
            "  0.01470469  0.12228584 -0.01659768  0.08190072  0.037309    0.04800038\n",
            "  0.003866   -0.03760735  0.00134686 -0.02022242 -0.01675163  0.04678789\n",
            "  0.03652369  0.10710596]\n",
            "[-0.15459144  0.11146054  0.1114653   0.07606024  0.11195443 -0.13356693\n",
            " -0.10400287 -0.1509699  -0.11911336 -0.02907911 -0.03935764  0.14219323\n",
            "  0.09478083  0.12716977 -0.08695447  0.07390308 -0.08336962  0.1193708\n",
            "  0.14073779  0.02054751  0.15386899  0.07496594 -0.13166906 -0.09123333\n",
            "  0.10529803  0.1058455  -0.05162434  0.08738099 -0.12318747 -0.12442545\n",
            " -0.1431162  -0.12562159]\n",
            "Similarity between good and great: 0.42299005\n",
            "Similarity between good and bad: -0.35445043\n"
          ]
        }
      ],
      "source": [
        "from sklearn.metrics.pairwise import cosine_similarity\n",
        "\n",
        "# access the embedding layer through the constructed model \n",
        "# first `0` refers to the position of embedding layer in the `model`\n",
        "# `embeddings` has a shape of (num_vocab, embedding_dim) \n",
        "embeddings = model.layers[0].get_weights()[0]\n",
        "\n",
        "# `word_to_index` is a mapping (i.e. dict) from words to their index, e.g. `love`: 69\n",
        "words_embeddings = {w:embeddings[idx] for w, idx in word_to_id.items() if idx < 10000}\n",
        "\n",
        "# now you can use it like this for example\n",
        "print(words_embeddings['great'])\n",
        "print(words_embeddings['good'])\n",
        "print(words_embeddings['bad'])\n",
        "\n",
        "print(\"Similarity between good and great: \" + str(cosine_similarity([words_embeddings['good'], words_embeddings['great']])[0,1]))\n",
        "print(\"Similarity between good and bad: \" + str(cosine_similarity([words_embeddings['good'], words_embeddings['bad']])[0,1]))"
      ]
    }
  ],
  "metadata": {
    "accelerator": "GPU",
    "colab": {
      "provenance": [],
      "include_colab_link": true
    },
    "kernelspec": {
      "display_name": "Python 3",
      "name": "python3"
    },
    "language_info": {
      "codemirror_mode": {
        "name": "ipython",
        "version": 3
      },
      "file_extension": ".py",
      "mimetype": "text/x-python",
      "name": "python",
      "nbconvert_exporter": "python",
      "pygments_lexer": "ipython3",
      "version": "3.5.2"
    }
  },
  "nbformat": 4,
  "nbformat_minor": 0
}