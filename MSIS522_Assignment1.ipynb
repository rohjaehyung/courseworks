{
  "nbformat": 4,
  "nbformat_minor": 0,
  "metadata": {
    "kernelspec": {
      "display_name": "Python 3",
      "language": "python",
      "name": "python3"
    },
    "language_info": {
      "codemirror_mode": {
        "name": "ipython",
        "version": 3
      },
      "file_extension": ".py",
      "mimetype": "text/x-python",
      "name": "python",
      "nbconvert_exporter": "python",
      "pygments_lexer": "ipython3",
      "version": "3.6.3"
    },
    "colab": {
      "name": "MSIS522-Assignment1.ipynb",
      "provenance": [],
      "collapsed_sections": []
    }
  },
  "cells": [
    {
      "cell_type": "markdown",
      "metadata": {
        "id": "_tTHlJ6iM8cJ",
        "colab_type": "text"
      },
      "source": [
        "# Titanic: Machine Learning from Disaster\n",
        "\n",
        "The sinking of the RMS Titanic is one of the most infamous shipwrecks in history.  On April 15, 1912, during her maiden voyage, the Titanic sank after colliding with an iceberg, killing 1502 out of 2224 passengers and crew. This sensational tragedy shocked the international community and led to better safety regulations for ships.\n",
        "\n",
        "One of the reasons that the shipwreck led to such loss of life was that there were not enough lifeboats for the passengers and crew. Although there was some element of luck involved in surviving the sinking, some groups of people were more likely to survive than others, such as women, children, and the upper-class.\n",
        "\n"
      ]
    },
    {
      "cell_type": "markdown",
      "metadata": {
        "id": "xm7UyiblM8cM",
        "colab_type": "text"
      },
      "source": [
        "## Goal\n",
        "\n",
        "In this assignment, you will be asked to find insights from the data by using **pandas** to analyze and manipulate the data and **matplotlib** and **seaborn** for data visualization. You will get a bonus point if you can apply a logistic regression model to predict which passengers are more likely to survive in a separate test set. "
      ]
    },
    {
      "cell_type": "code",
      "metadata": {
        "id": "JSB1D5caM8cN",
        "colab_type": "code",
        "colab": {}
      },
      "source": [
        "# importing libraries\n",
        "import os\n",
        "import io\n",
        "import warnings\n",
        "\n",
        "import numpy as np\n",
        "import scipy as sp\n",
        "import pandas as pd\n",
        "import sklearn as sk\n",
        "\n",
        "import matplotlib as mpl\n",
        "import matplotlib.pyplot as plt\n",
        "%matplotlib inline\n",
        "import seaborn as sns\n",
        "sns.set()\n",
        "\n",
        "warnings.simplefilter(action='ignore', category=FutureWarning)"
      ],
      "execution_count": 0,
      "outputs": []
    },
    {
      "cell_type": "code",
      "metadata": {
        "id": "iVLifp0IM8cQ",
        "colab_type": "code",
        "colab": {}
      },
      "source": [
        "# load data\n",
        "titanic = pd.read_csv('https://raw.githubusercontent.com/zariable/data/master/titanic_train.csv')\n",
        "display(titanic.head())"
      ],
      "execution_count": 0,
      "outputs": []
    },
    {
      "cell_type": "markdown",
      "metadata": {
        "id": "vXplTCIeM8cT",
        "colab_type": "text"
      },
      "source": [
        "## Description of the data set\n",
        "Here's a brief description of each column in the data.\n",
        "\n",
        "- PassengerID: A column added by Kaggle to identify each row and make submissions easier\n",
        "- Survived: Whether the passenger survived or not and the value we are predicting (0=No, 1=Yes)\n",
        "- Pclass: The class of the ticket the passenger purchased (1=1st, 2=2nd, 3=3rd)\n",
        "- Sex: The passenger's sex\n",
        "- Age: The passenger's age in years\n",
        "- SibSp: The number of siblings or spouses the passenger had aboard the Titanic\n",
        "- Parch: The number of parents or children the passenger had aboard the Titanic\n",
        "- Ticket: The passenger's ticket number\n",
        "- Fare: The fare the passenger paid\n",
        "- Cabin: The passenger's cabin number\n",
        "- Embarked: The port where the passenger embarked (C=Cherbourg, Q=Queenstown, S=Southampton)"
      ]
    },
    {
      "cell_type": "code",
      "metadata": {
        "id": "hdmTDZGYM8cT",
        "colab_type": "code",
        "colab": {}
      },
      "source": [
        "titanic.describe(include='all')"
      ],
      "execution_count": 0,
      "outputs": []
    },
    {
      "cell_type": "markdown",
      "metadata": {
        "id": "zqrQG_NpM8cW",
        "colab_type": "text"
      },
      "source": [
        "### **Question 1: Find the number of missing values for each column.**\n",
        "The first step in data analysis is to identify columns with missing data. Can you find the columns in this data with missing value as well as the number of records with missing value for each column?  \n",
        "\n",
        "Hint: you will need [isna](https://pandas.pydata.org/pandas-docs/stable/generated/pandas.DataFrame.isna.html) function."
      ]
    },
    {
      "cell_type": "code",
      "metadata": {
        "id": "q-yVQIkVM8cW",
        "colab_type": "code",
        "colab": {}
      },
      "source": [
        "# TODO"
      ],
      "execution_count": 0,
      "outputs": []
    },
    {
      "cell_type": "markdown",
      "metadata": {
        "id": "dyv7SbkjM8cY",
        "colab_type": "text"
      },
      "source": [
        "### **Question 2: Impute missing values.**\n",
        "Now we've identified the following columns with missing values: _Age_, _Cabin_ and _Embarked_. As the next step, we want to impute those missing values. There are three ways to impute the missing values:\n",
        "- A constant value that has meaning within the domain.\n",
        "- The mean, median or mode value based on non-missing values of that column.\n",
        "- A random value drawn from other non-missing values of that column.\n",
        "\n",
        "Please write code to impute the missing values as follows:\n",
        "- the missing values of column _age_ with the mean of that column.\n",
        "- the missing values of column _Cabin_ with a constant value 'other'.\n",
        "- the missing values of column _Embarked_ with the [mode](https://pandas.pydata.org/pandas-docs/stable/generated/pandas.DataFrame.mode.html) of that column."
      ]
    },
    {
      "cell_type": "code",
      "metadata": {
        "id": "TfCy8py-M8cZ",
        "colab_type": "code",
        "colab": {}
      },
      "source": [
        "# TODO"
      ],
      "execution_count": 0,
      "outputs": []
    },
    {
      "cell_type": "markdown",
      "metadata": {
        "id": "slueIatrM8cb",
        "colab_type": "text"
      },
      "source": [
        "### **Question 3: What's the name of the person who has the 16th most expensive ticket?**"
      ]
    },
    {
      "cell_type": "code",
      "metadata": {
        "id": "U9TFxZAfM8cc",
        "colab_type": "code",
        "colab": {}
      },
      "source": [
        "# TODO"
      ],
      "execution_count": 0,
      "outputs": []
    },
    {
      "cell_type": "markdown",
      "metadata": {
        "id": "upj1tS2AM8ce",
        "colab_type": "text"
      },
      "source": [
        "### **Question 4: Out of all the remales who survived, what's the name who has the 6th most expensive ticket?**"
      ]
    },
    {
      "cell_type": "code",
      "metadata": {
        "id": "tXywVrsoM8ce",
        "colab_type": "code",
        "colab": {}
      },
      "source": [
        "# TODO"
      ],
      "execution_count": 0,
      "outputs": []
    },
    {
      "cell_type": "markdown",
      "metadata": {
        "id": "oXaAaaY3M8cg",
        "colab_type": "text"
      },
      "source": [
        "### **Question 5: Examine the survival rate**\n",
        "Calculate the survival rate for different gender and Pclass combination and use a couple of sentences to describe your findings. Hint: pivot_table is your friend."
      ]
    },
    {
      "cell_type": "code",
      "metadata": {
        "id": "GsBOqDRvM8ch",
        "colab_type": "code",
        "colab": {}
      },
      "source": [
        "# TODO"
      ],
      "execution_count": 0,
      "outputs": []
    },
    {
      "cell_type": "markdown",
      "metadata": {
        "id": "Jl8IY-XjM8cj",
        "colab_type": "text"
      },
      "source": [
        "### **Question 6: Is Age or Fare an important factor to one's chance of survival?**\n",
        "Visualize the distribution of Column _Age_ for both survived and non-survived population and write down your findings based on the visualization."
      ]
    },
    {
      "cell_type": "code",
      "metadata": {
        "id": "yica7x96M8ck",
        "colab_type": "code",
        "colab": {}
      },
      "source": [
        "# TODO"
      ],
      "execution_count": 0,
      "outputs": []
    },
    {
      "cell_type": "markdown",
      "metadata": {
        "id": "DiigUZriM8cl",
        "colab_type": "text"
      },
      "source": [
        "### **Question 7: Calculate and visualize the survival rate for discrete columns**\n",
        "- Calculate the survival rate for column _SibSp_ and _Parch_.\n",
        "- Use sns.barplot to visualize the survival rate for column _SibSp_ and _Parch_."
      ]
    },
    {
      "cell_type": "code",
      "metadata": {
        "id": "DqHs4imSM8cm",
        "colab_type": "code",
        "colab": {}
      },
      "source": [
        "# TODO"
      ],
      "execution_count": 0,
      "outputs": []
    },
    {
      "cell_type": "markdown",
      "metadata": {
        "id": "WwOkr4k1M8co",
        "colab_type": "text"
      },
      "source": [
        "### **Question 8: Find the correlations.**\n",
        "Find the correlations between the feature and the target variable _Survived_ and use heatmap to visualize it. Summarize your findings."
      ]
    },
    {
      "cell_type": "code",
      "metadata": {
        "id": "WyANNhL6M8co",
        "colab_type": "code",
        "colab": {}
      },
      "source": [
        "# TODO"
      ],
      "execution_count": 0,
      "outputs": []
    },
    {
      "cell_type": "markdown",
      "metadata": {
        "id": "VPA-huNqM8cr",
        "colab_type": "text"
      },
      "source": [
        "### **Question 9: Any other insights do you draw by analyzing the data? Summarize the findings as well as provide the code leading you to the findings.**"
      ]
    },
    {
      "cell_type": "code",
      "metadata": {
        "id": "RbUR4eVqM8cr",
        "colab_type": "code",
        "colab": {}
      },
      "source": [
        "# TODO"
      ],
      "execution_count": 0,
      "outputs": []
    },
    {
      "cell_type": "markdown",
      "metadata": {
        "id": "WN7aJgCAM8ct",
        "colab_type": "text"
      },
      "source": [
        "### **Bonus Point: Build a ML model to predict survival.**\n",
        "Can you build a logistic regression model to predict the probability of survival for all the passengers in this [file](https://raw.githubusercontent.com/zariable/data/master/titanic_test.csv)? You can evaluate your model accuracy on [Kaggle](https://www.kaggle.com/c/titanic). Can you think of any other ways to improve the model performance? Implement your idea to see if it actually works. "
      ]
    },
    {
      "cell_type": "code",
      "metadata": {
        "id": "dJ7Cdt2PM8cu",
        "colab_type": "code",
        "colab": {}
      },
      "source": [
        "# TODO"
      ],
      "execution_count": 0,
      "outputs": []
    }
  ]
}