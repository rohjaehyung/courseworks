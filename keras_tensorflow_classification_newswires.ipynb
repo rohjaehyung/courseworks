{
  "nbformat": 4,
  "nbformat_minor": 0,
  "metadata": {
    "colab": {
      "provenance": [],
      "include_colab_link": true
    },
    "language_info": {
      "codemirror_mode": {
        "name": "ipython",
        "version": 3
      },
      "file_extension": ".py",
      "mimetype": "text/x-python",
      "name": "python",
      "nbconvert_exporter": "python",
      "pygments_lexer": "ipython3",
      "version": "3.5.2"
    },
    "kernelspec": {
      "display_name": "Python 3",
      "language": "python",
      "name": "python3"
    }
  },
  "cells": [
    {
      "cell_type": "markdown",
      "metadata": {
        "id": "view-in-github",
        "colab_type": "text"
      },
      "source": [
        "<a href=\"https://colab.research.google.com/github/rohjaehyung/courseworks/blob/main/keras_tensorflow_classification_newswires.ipynb\" target=\"_parent\"><img src=\"https://colab.research.google.com/assets/colab-badge.svg\" alt=\"Open In Colab\"/></a>"
      ]
    },
    {
      "cell_type": "code",
      "metadata": {
        "id": "_0lDkFZq3ohI",
        "colab": {
          "base_uri": "https://localhost:8080/"
        },
        "outputId": "e63c44b0-b500-4f37-8969-750db571f941"
      },
      "source": [
        "%tensorflow_version 2.8.0\n",
        "%matplotlib inline\n",
        "import warnings\n",
        "warnings.filterwarnings('ignore')\n",
        "\n",
        "import tensorflow as tf\n",
        "tf.autograph.set_verbosity(0)\n",
        "\n",
        "import keras\n",
        "keras.__version__\n",
        "\n",
        "import numpy as np"
      ],
      "execution_count": null,
      "outputs": [
        {
          "output_type": "stream",
          "name": "stdout",
          "text": [
            "Colab only includes TensorFlow 2.x; %tensorflow_version has no effect.\n"
          ]
        }
      ]
    },
    {
      "cell_type": "markdown",
      "metadata": {
        "id": "bu5jf9gW3ohR"
      },
      "source": [
        "# Classifying newswires: a multi-class classification example\n",
        "\n",
        "In this homework, we will build a network to classify Reuters newswires into 46 different mutually-exclusive topics. Since we have many \n",
        "classes, this problem is an instance of \"multi-class classification\", and since each data point should be classified into only one \n",
        "category, the problem is more specifically an instance of \"single-label, multi-class classification\"."
      ]
    },
    {
      "cell_type": "markdown",
      "metadata": {
        "id": "_-s49gXW3ohT"
      },
      "source": [
        "## The Reuters dataset\n",
        "\n",
        "\n",
        "We will be working with the _Reuters dataset_, a set of short newswires and their topics, published by Reuters in 1986. It's a very simple, \n",
        "widely used toy dataset for text classification. There are 46 different topics; some topics are more represented than others, but each \n",
        "topic has at least 10 examples in the training set.\n",
        "\n",
        "Like IMDB and MNIST, the Reuters dataset comes packaged as part of Keras. Let's take a look right away:"
      ]
    },
    {
      "cell_type": "code",
      "metadata": {
        "id": "yjSiBNZS3ohU"
      },
      "source": [
        "from keras.datasets import reuters\n",
        "\n",
        "(train_data, train_labels), (test_data, test_labels) = reuters.load_data(num_words=10000)"
      ],
      "execution_count": null,
      "outputs": []
    },
    {
      "cell_type": "markdown",
      "metadata": {
        "id": "-VRrIjNI3ohX"
      },
      "source": [
        "\n",
        "Like with the IMDB dataset, the argument `num_words=10000` restricts the data to the 10,000 most frequently occurring words found in the \n",
        "data.\n",
        "\n",
        "We have 8,982 training examples and 2,246 test examples:"
      ]
    },
    {
      "cell_type": "markdown",
      "metadata": {
        "id": "FMdiLzvF3ohf"
      },
      "source": [
        "As with the IMDB reviews, each example is a list of integers (word indices):"
      ]
    },
    {
      "cell_type": "code",
      "metadata": {
        "id": "QriVgMSe3ohg",
        "colab": {
          "base_uri": "https://localhost:8080/"
        },
        "outputId": "39412a52-e918-4f35-9a56-ef1775b68ec9"
      },
      "source": [
        "train_data[:1]"
      ],
      "execution_count": null,
      "outputs": [
        {
          "output_type": "execute_result",
          "data": {
            "text/plain": [
              "array([list([1, 2, 2, 8, 43, 10, 447, 5, 25, 207, 270, 5, 3095, 111, 16, 369, 186, 90, 67, 7, 89, 5, 19, 102, 6, 19, 124, 15, 90, 67, 84, 22, 482, 26, 7, 48, 4, 49, 8, 864, 39, 209, 154, 6, 151, 6, 83, 11, 15, 22, 155, 11, 15, 7, 48, 9, 4579, 1005, 504, 6, 258, 6, 272, 11, 15, 22, 134, 44, 11, 15, 16, 8, 197, 1245, 90, 67, 52, 29, 209, 30, 32, 132, 6, 109, 15, 17, 12])],\n",
              "      dtype=object)"
            ]
          },
          "metadata": {},
          "execution_count": 4
        }
      ]
    },
    {
      "cell_type": "markdown",
      "metadata": {
        "id": "kIvaOPin3ohj"
      },
      "source": [
        "Here's how you can decode it back to words, in case you are curious:"
      ]
    },
    {
      "cell_type": "code",
      "metadata": {
        "id": "EZg6ME3Y3ohk",
        "colab": {
          "base_uri": "https://localhost:8080/"
        },
        "outputId": "7c59be7b-43f1-43e4-9808-09a54e1f94d6"
      },
      "source": [
        "word_index = reuters.get_word_index()\n",
        "inverted_word_index = dict((i, word) for (word, i) in word_index.items())\n",
        "# Note that our indices were offset by 3\n",
        "# because 0, 1 and 2 are reserved indices for \"padding\", \"start of sequence\", and \"unknown\".\n",
        "decoded_newswire = ' '.join([inverted_word_index.get(i - 3, '?') for i in train_data[0]])\n",
        "\n",
        "print(\"The decoded text:\" + decoded_newswire)"
      ],
      "execution_count": null,
      "outputs": [
        {
          "output_type": "stream",
          "name": "stdout",
          "text": [
            "The decoded text:? ? ? said as a result of its december acquisition of space co it expects earnings per share in 1987 of 1 15 to 1 30 dlrs per share up from 70 cts in 1986 the company said pretax net should rise to nine to 10 mln dlrs from six mln dlrs in 1986 and rental operation revenues to 19 to 22 mln dlrs from 12 5 mln dlrs it said cash flow per share this year should be 2 50 to three dlrs reuter 3\n"
          ]
        }
      ]
    },
    {
      "cell_type": "markdown",
      "metadata": {
        "id": "yntI1JS33oho"
      },
      "source": [
        "The label associated with an example is an integer between 0 and 45: a topic index."
      ]
    },
    {
      "cell_type": "code",
      "metadata": {
        "id": "swMqUzqz3ohq",
        "colab": {
          "base_uri": "https://localhost:8080/"
        },
        "outputId": "d1bcabb5-2925-4e0e-ae89-11c23fa9f395"
      },
      "source": [
        "train_labels[:10]"
      ],
      "execution_count": null,
      "outputs": [
        {
          "output_type": "execute_result",
          "data": {
            "text/plain": [
              "array([ 3,  4,  3,  4,  4,  4,  4,  3,  3, 16])"
            ]
          },
          "metadata": {},
          "execution_count": 6
        }
      ]
    },
    {
      "cell_type": "markdown",
      "metadata": {
        "id": "fsLn40NK3oht"
      },
      "source": [
        "## Preparing the data\n",
        "\n",
        "We can vectorize the data with the exact same code as in our previous example:"
      ]
    },
    {
      "cell_type": "code",
      "metadata": {
        "id": "NDol7z_43ohu",
        "colab": {
          "base_uri": "https://localhost:8080/"
        },
        "outputId": "5d8b191e-cc25-4413-c415-fa7b73147e44"
      },
      "source": [
        "import numpy as np\n",
        "\n",
        "def vectorize_sequences(sequences, dimension=10000):\n",
        "    results = np.zeros((len(sequences), dimension))\n",
        "    for i, sequence in enumerate(sequences):\n",
        "        results[i, sequence] = 1.\n",
        "    return results\n",
        "\n",
        "# Our vectorized training data\n",
        "x_train = vectorize_sequences(train_data)\n",
        "# Our vectorized test data\n",
        "x_test = vectorize_sequences(test_data)\n",
        "\n",
        "print(x_train.shape)"
      ],
      "execution_count": null,
      "outputs": [
        {
          "output_type": "stream",
          "name": "stdout",
          "text": [
            "(8982, 10000)\n"
          ]
        }
      ]
    },
    {
      "cell_type": "markdown",
      "metadata": {
        "id": "9pte7Qr63ohv"
      },
      "source": [
        "\n",
        "Use \"one-hot\" encoding to vectorize the labels. One-hot encoding is a widely used format for categorical data, also called \"categorical encoding\". In our case, one-hot encoding of our labels consists in embedding each label as an all-zero vector with a 1 in the place of the label index. Note that there is a built-in way to do this in Keras."
      ]
    },
    {
      "cell_type": "code",
      "metadata": {
        "id": "XO_SmjOD3ohy"
      },
      "source": [
        "from keras.utils.np_utils import to_categorical\n",
        "\n",
        "one_hot_train_labels = to_categorical(train_labels)\n",
        "one_hot_test_labels = to_categorical(test_labels)"
      ],
      "execution_count": null,
      "outputs": []
    },
    {
      "cell_type": "markdown",
      "metadata": {
        "id": "rMvTFcc03ohz"
      },
      "source": [
        "## Building our network\n",
        "\n",
        "\n",
        "This topic classification problem looks very similar to our previous movie review classification problem: in both cases, we are trying to \n",
        "classify short snippets of text. There is however a new constraint here: the number of output classes has gone from 2 to 46, i.e. the \n",
        "dimensionality of the output space is much larger. \n",
        "\n",
        "In a stack of `Dense` layers like what we were using, each layer can only access information present in the output of the previous layer. \n",
        "If one layer drops some information relevant to the classification problem, this information can never be recovered by later layers: each \n",
        "layer can potentially become an \"information bottleneck\". In our previous example, we were using 16-dimensional intermediate layers, but a \n",
        "16-dimensional space may be too limited to learn to separate 46 different classes: such small layers may act as information bottlenecks, \n",
        "permanently dropping relevant information.\n",
        "\n",
        "For this reason we will use larger layers. Let's go with 64 units:"
      ]
    },
    {
      "cell_type": "code",
      "metadata": {
        "id": "HdhwRTjx3ohz",
        "colab": {
          "base_uri": "https://localhost:8080/"
        },
        "outputId": "9052b010-ebff-4d9a-fa6f-6a7a47e5205f"
      },
      "source": [
        "from keras import models\n",
        "from keras import layers\n",
        "\n",
        "# TODO: specify the architecture of the model.\n",
        "\n",
        "model = models.Sequential()\n",
        "model.add(layers.Dense(64, activation='relu', input_shape=(10000,)))\n",
        "model.add(layers.Dense(64, activation= 'relu'))\n",
        "model.add(layers.Dense(46,activation= 'softmax'))\n",
        "\n",
        "model.summary()"
      ],
      "execution_count": null,
      "outputs": [
        {
          "output_type": "stream",
          "name": "stdout",
          "text": [
            "Model: \"sequential\"\n",
            "_________________________________________________________________\n",
            " Layer (type)                Output Shape              Param #   \n",
            "=================================================================\n",
            " dense (Dense)               (None, 64)                640064    \n",
            "                                                                 \n",
            " dense_1 (Dense)             (None, 64)                4160      \n",
            "                                                                 \n",
            " dense_2 (Dense)             (None, 46)                2990      \n",
            "                                                                 \n",
            "=================================================================\n",
            "Total params: 647,214\n",
            "Trainable params: 647,214\n",
            "Non-trainable params: 0\n",
            "_________________________________________________________________\n"
          ]
        }
      ]
    },
    {
      "cell_type": "markdown",
      "metadata": {
        "id": "V-Aj666N3oh1"
      },
      "source": [
        "\n",
        "There are two other things you should note about this architecture:\n",
        "\n",
        "* We are ending the network with a `Dense` layer of size 46. This means that for each input sample, our network will output a \n",
        "46-dimensional vector. Each entry in this vector (each dimension) will encode a different output class.\n",
        "* The last layer uses a `softmax` activation. You have already seen this pattern in the MNIST example. It means that the network will \n",
        "output a _probability distribution_ over the 46 different output classes, i.e. for every input sample, the network will produce a \n",
        "46-dimensional output vector where `output[i]` is the probability that the sample belongs to class `i`. The 46 scores will sum to 1.\n",
        "\n",
        "The best loss function to use in this case is `categorical_crossentropy`. It measures the distance between two probability distributions: \n",
        "in our case, between the probability distribution output by our network, and the true distribution of the labels. By minimizing the \n",
        "distance between these two distributions, we train our network to output something as close as possible to the true labels."
      ]
    },
    {
      "cell_type": "code",
      "metadata": {
        "id": "AhmA6zNZ3oh1"
      },
      "source": [
        "# TODO: compile the model you just built\n",
        "model.compile(optimizer='rmsprop', loss = 'categorical_crossentropy', metrics=['accuracy'])"
      ],
      "execution_count": null,
      "outputs": []
    },
    {
      "cell_type": "markdown",
      "metadata": {
        "id": "TGB_cp8B3oh2"
      },
      "source": [
        "## Validating our approach\n",
        "\n",
        "Let's set apart 1,000 samples in our training data to use as a validation set:"
      ]
    },
    {
      "cell_type": "code",
      "metadata": {
        "id": "Y3eyzgOA3oh2"
      },
      "source": [
        "x_val = x_train[:1000]\n",
        "partial_x_train = x_train[1000:]\n",
        "\n",
        "y_val = one_hot_train_labels[:1000]\n",
        "partial_y_train = one_hot_train_labels[1000:]"
      ],
      "execution_count": null,
      "outputs": []
    },
    {
      "cell_type": "markdown",
      "metadata": {
        "id": "vIFUZkt43oh3"
      },
      "source": [
        "Now let's train our network for 20 epochs:"
      ]
    },
    {
      "cell_type": "code",
      "source": [
        "partial_y_train.shape"
      ],
      "metadata": {
        "colab": {
          "base_uri": "https://localhost:8080/"
        },
        "id": "FlfodHPp69-K",
        "outputId": "0f06adfd-2e78-4136-d3d6-81ad001bd462"
      },
      "execution_count": null,
      "outputs": [
        {
          "output_type": "execute_result",
          "data": {
            "text/plain": [
              "(7982, 46)"
            ]
          },
          "metadata": {},
          "execution_count": 12
        }
      ]
    },
    {
      "cell_type": "code",
      "metadata": {
        "id": "MM57jbod3oh3",
        "colab": {
          "base_uri": "https://localhost:8080/"
        },
        "outputId": "fd50d666-2aff-46f4-b31f-b63cae03856b"
      },
      "source": [
        "# TODO: fit the model with the training dataset and provide validation data \n",
        "# to help check overfitting\n",
        "history = model.fit(\n",
        "    partial_x_train,\n",
        "    partial_y_train,\n",
        "    epochs= 20,\n",
        "    batch_size = 512,\n",
        "    validation_data = (x_val, y_val)\n",
        ")"
      ],
      "execution_count": null,
      "outputs": [
        {
          "output_type": "stream",
          "name": "stdout",
          "text": [
            "Epoch 1/20\n",
            "16/16 [==============================] - 1s 71ms/step - loss: 0.1417 - accuracy: 0.9558 - val_loss: 0.8250 - val_accuracy: 0.8250\n",
            "Epoch 2/20\n",
            "16/16 [==============================] - 1s 55ms/step - loss: 0.1346 - accuracy: 0.9573 - val_loss: 0.8535 - val_accuracy: 0.8210\n",
            "Epoch 3/20\n",
            "16/16 [==============================] - 1s 55ms/step - loss: 0.1296 - accuracy: 0.9569 - val_loss: 0.8306 - val_accuracy: 0.8220\n",
            "Epoch 4/20\n",
            "16/16 [==============================] - 1s 63ms/step - loss: 0.1251 - accuracy: 0.9564 - val_loss: 0.8577 - val_accuracy: 0.8240\n",
            "Epoch 5/20\n",
            "16/16 [==============================] - 1s 63ms/step - loss: 0.1199 - accuracy: 0.9575 - val_loss: 0.8648 - val_accuracy: 0.8200\n",
            "Epoch 6/20\n",
            "16/16 [==============================] - 1s 54ms/step - loss: 0.1170 - accuracy: 0.9569 - val_loss: 0.8476 - val_accuracy: 0.8210\n",
            "Epoch 7/20\n",
            "16/16 [==============================] - 1s 55ms/step - loss: 0.1106 - accuracy: 0.9583 - val_loss: 0.8773 - val_accuracy: 0.8200\n",
            "Epoch 8/20\n",
            "16/16 [==============================] - 1s 78ms/step - loss: 0.1098 - accuracy: 0.9598 - val_loss: 0.8777 - val_accuracy: 0.8230\n",
            "Epoch 9/20\n",
            "16/16 [==============================] - 2s 101ms/step - loss: 0.1053 - accuracy: 0.9590 - val_loss: 0.8782 - val_accuracy: 0.8200\n",
            "Epoch 10/20\n",
            "16/16 [==============================] - 1s 84ms/step - loss: 0.1050 - accuracy: 0.9583 - val_loss: 0.8748 - val_accuracy: 0.8180\n",
            "Epoch 11/20\n",
            "16/16 [==============================] - 1s 53ms/step - loss: 0.1000 - accuracy: 0.9613 - val_loss: 0.8986 - val_accuracy: 0.8150\n",
            "Epoch 12/20\n",
            "16/16 [==============================] - 1s 62ms/step - loss: 0.1006 - accuracy: 0.9593 - val_loss: 0.8939 - val_accuracy: 0.8160\n",
            "Epoch 13/20\n",
            "16/16 [==============================] - 1s 66ms/step - loss: 0.0992 - accuracy: 0.9575 - val_loss: 0.8937 - val_accuracy: 0.8180\n",
            "Epoch 14/20\n",
            "16/16 [==============================] - 1s 63ms/step - loss: 0.0965 - accuracy: 0.9579 - val_loss: 0.9028 - val_accuracy: 0.8160\n",
            "Epoch 15/20\n",
            "16/16 [==============================] - 1s 58ms/step - loss: 0.0957 - accuracy: 0.9587 - val_loss: 0.9123 - val_accuracy: 0.8130\n",
            "Epoch 16/20\n",
            "16/16 [==============================] - 1s 59ms/step - loss: 0.0947 - accuracy: 0.9575 - val_loss: 0.9051 - val_accuracy: 0.8200\n",
            "Epoch 17/20\n",
            "16/16 [==============================] - 1s 64ms/step - loss: 0.0930 - accuracy: 0.9583 - val_loss: 0.9221 - val_accuracy: 0.8120\n",
            "Epoch 18/20\n",
            "16/16 [==============================] - 1s 64ms/step - loss: 0.0907 - accuracy: 0.9589 - val_loss: 0.9190 - val_accuracy: 0.8230\n",
            "Epoch 19/20\n",
            "16/16 [==============================] - 1s 60ms/step - loss: 0.0890 - accuracy: 0.9607 - val_loss: 0.9213 - val_accuracy: 0.8190\n",
            "Epoch 20/20\n",
            "16/16 [==============================] - 1s 52ms/step - loss: 0.0894 - accuracy: 0.9577 - val_loss: 0.9588 - val_accuracy: 0.8180\n"
          ]
        }
      ]
    },
    {
      "cell_type": "markdown",
      "metadata": {
        "id": "Rq5P0gWQ3oh5"
      },
      "source": [
        "Let's display its loss and accuracy curves to help identify when it starts to overfit."
      ]
    },
    {
      "cell_type": "code",
      "source": [
        "history_dict = history.history\n",
        "history_dict.keys()"
      ],
      "metadata": {
        "colab": {
          "base_uri": "https://localhost:8080/"
        },
        "id": "bLqIIib3oMf-",
        "outputId": "c7f9038e-685d-4f46-f5ac-4be017379ef2"
      },
      "execution_count": null,
      "outputs": [
        {
          "output_type": "execute_result",
          "data": {
            "text/plain": [
              "dict_keys(['loss', 'accuracy', 'val_loss', 'val_accuracy'])"
            ]
          },
          "metadata": {},
          "execution_count": 35
        }
      ]
    },
    {
      "cell_type": "code",
      "metadata": {
        "id": "EIRFHE0U3oh5",
        "colab": {
          "base_uri": "https://localhost:8080/",
          "height": 472
        },
        "outputId": "68927a21-29ee-4dc3-ea14-b68b33fb8702"
      },
      "source": [
        "import matplotlib.pyplot as plt\n",
        "\n",
        "# TODO: plot the model loss on both training and validation data. \n",
        "\n",
        "loss = history.history['loss']\n",
        "val_loss = history.history['val_loss']\n",
        "acc = history.history['accuracy']\n",
        "val_acc = history.history['val_accuracy']\n",
        "\n",
        "epochs = range(1,len(acc)+1)\n",
        "\n",
        "plt.plot(epochs, loss, 'bo', label = 'Training loss')\n",
        "plt.plot(epochs, val_loss, 'b', label = 'Validation loss')\n",
        "plt.title('Training and validation loss')\n",
        "plt.xlabel('Epochs')\n",
        "plt.ylabel('Loss')\n",
        "plt.legend()\n",
        "\n",
        "plt.show()"
      ],
      "execution_count": null,
      "outputs": [
        {
          "output_type": "display_data",
          "data": {
            "text/plain": [
              "<Figure size 640x480 with 1 Axes>"
            ],
            "image/png": "[encoded data removed]"
          },
          "metadata": {}
        }
      ]
    },
    {
      "cell_type": "code",
      "metadata": {
        "id": "M69rtt143oh6",
        "colab": {
          "base_uri": "https://localhost:8080/",
          "height": 472
        },
        "outputId": "05160e87-f921-4234-947c-c5d3b4c9c64d"
      },
      "source": [
        "# TODO: plot prediction accuracy on both training and validation data. \n",
        "\n",
        "plt.clf()\n",
        "acc = history.history['accuracy']\n",
        "val_acc = history.history['val_accuracy']\n",
        "\n",
        "plt.plot(epochs, acc, 'bo', label='Training acc')\n",
        "plt.plot(epochs, val_acc, 'b', label='Validation acc')\n",
        "plt.title('Training and validation accuracy')\n",
        "plt.xlabel('Epochs')\n",
        "plt.ylabel('Accuracy')\n",
        "plt.legend()\n",
        "\n",
        "plt.show()"
      ],
      "execution_count": null,
      "outputs": [
        {
          "output_type": "display_data",
          "data": {
            "text/plain": [
              "<Figure size 640x480 with 1 Axes>"
            ],
            "image/png": "[encoded data removed]"
          },
          "metadata": {}
        }
      ]
    },
    {
      "cell_type": "markdown",
      "metadata": {
        "id": "LUarkgZd3oh7"
      },
      "source": [
        "It seems that the network starts overfitting after certain epochs. Let's train a new network from scratch for fewer epochs before it starts overfitting, then let's evaluate it on the test set:"
      ]
    },
    {
      "cell_type": "code",
      "metadata": {
        "id": "IciZ2dMP3oh8",
        "colab": {
          "base_uri": "https://localhost:8080/"
        },
        "outputId": "dd4f3812-abdf-420c-887f-0f083f7e1214"
      },
      "source": [
        "# TODO: retrain the model with the fewer epoches to avoid overfitting\n",
        "\n",
        "model = models.Sequential()\n",
        "model.add(layers.Dense(64, activation='relu', input_shape=(10000,)))\n",
        "model.add(layers.Dense(64, activation= 'relu'))\n",
        "model.add(layers.Dense(46,activation= 'softmax'))\n",
        "\n",
        "model.compile(optimizer='rmsprop', loss = 'categorical_crossentropy', metrics=['accuracy'])\n",
        "\n",
        "history = model.fit(\n",
        "    partial_x_train,\n",
        "    partial_y_train,\n",
        "    epochs= 10,\n",
        "    batch_size = 512,\n",
        "    validation_data = (x_val, y_val)\n",
        ")\n"
      ],
      "execution_count": null,
      "outputs": [
        {
          "output_type": "stream",
          "name": "stdout",
          "text": [
            "Epoch 1/10\n",
            "16/16 [==============================] - 3s 75ms/step - loss: 2.8960 - accuracy: 0.5046 - val_loss: 1.9529 - val_accuracy: 0.6160\n",
            "Epoch 2/10\n",
            "16/16 [==============================] - 1s 63ms/step - loss: 1.6143 - accuracy: 0.6775 - val_loss: 1.4272 - val_accuracy: 0.6870\n",
            "Epoch 3/10\n",
            "16/16 [==============================] - 2s 96ms/step - loss: 1.2226 - accuracy: 0.7311 - val_loss: 1.2118 - val_accuracy: 0.7370\n",
            "Epoch 4/10\n",
            "16/16 [==============================] - 2s 96ms/step - loss: 1.0008 - accuracy: 0.7871 - val_loss: 1.0914 - val_accuracy: 0.7690\n",
            "Epoch 5/10\n",
            "16/16 [==============================] - 1s 54ms/step - loss: 0.8273 - accuracy: 0.8218 - val_loss: 1.0128 - val_accuracy: 0.7860\n",
            "Epoch 6/10\n",
            "16/16 [==============================] - 1s 60ms/step - loss: 0.6946 - accuracy: 0.8489 - val_loss: 0.9645 - val_accuracy: 0.7980\n",
            "Epoch 7/10\n",
            "16/16 [==============================] - 1s 64ms/step - loss: 0.5813 - accuracy: 0.8782 - val_loss: 0.9140 - val_accuracy: 0.8060\n",
            "Epoch 8/10\n",
            "16/16 [==============================] - 1s 61ms/step - loss: 0.4895 - accuracy: 0.8968 - val_loss: 0.8875 - val_accuracy: 0.8140\n",
            "Epoch 9/10\n",
            "16/16 [==============================] - 1s 54ms/step - loss: 0.4089 - accuracy: 0.9147 - val_loss: 0.8892 - val_accuracy: 0.8120\n",
            "Epoch 10/10\n",
            "16/16 [==============================] - 1s 54ms/step - loss: 0.3513 - accuracy: 0.9270 - val_loss: 0.8639 - val_accuracy: 0.8140\n"
          ]
        }
      ]
    },
    {
      "cell_type": "markdown",
      "metadata": {
        "id": "XQ3VcXyx3oh_"
      },
      "source": [
        "\n",
        "Your model should reach an accuracy of ~80%. With a balanced binary classification problem, the accuracy reached by a purely random classifier \n",
        "would be 50%, but in our case it is closer to 19%, so our results seem pretty good, at least when compared to a random baseline."
      ]
    },
    {
      "cell_type": "markdown",
      "metadata": {
        "id": "FEzjb1m33oiA"
      },
      "source": [
        "## Generating predictions on new data\n",
        "\n",
        "We can verify that the `predict` method of our model instance returns a probability distribution over all 46 topics. Let's generate topic \n",
        "predictions for all of the test data:"
      ]
    },
    {
      "cell_type": "code",
      "metadata": {
        "id": "lIuTWvUq3oiB",
        "colab": {
          "base_uri": "https://localhost:8080/"
        },
        "outputId": "1c90444e-7b8e-462d-9d34-7b0d10dfe893"
      },
      "source": [
        "# TODO: use the learnt neural network to make a prediction on \n",
        "# the test data \n",
        "probabilities = model.predict(x_test)\n",
        "print(probabilities)"
      ],
      "execution_count": null,
      "outputs": [
        {
          "output_type": "stream",
          "name": "stdout",
          "text": [
            "71/71 [==============================] - 0s 4ms/step\n",
            "[[6.29279675e-05 1.32866931e-04 7.35559752e-06 ... 1.33455733e-05\n",
            "  1.50884316e-05 5.51967423e-06]\n",
            " [2.96829473e-02 7.33792374e-04 7.36222640e-02 ... 4.44305260e-06\n",
            "  1.38304240e-04 5.38993452e-04]\n",
            " [1.31020602e-03 6.78585708e-01 4.40392457e-03 ... 1.29780557e-03\n",
            "  8.47840274e-04 7.30196014e-03]\n",
            " ...\n",
            " [1.02913014e-04 1.00706890e-03 4.16599214e-05 ... 1.58298179e-04\n",
            "  8.50473662e-05 1.53891204e-04]\n",
            " [7.29549036e-04 1.54884979e-02 8.09184625e-04 ... 1.49233558e-04\n",
            "  4.84508928e-04 8.20989662e-04]\n",
            " [6.65840576e-04 5.18971801e-01 1.49605088e-02 ... 7.08072504e-04\n",
            "  2.29659461e-04 1.30199315e-03]]\n"
          ]
        }
      ]
    },
    {
      "cell_type": "markdown",
      "metadata": {
        "id": "O1LzmGXx3oiB"
      },
      "source": [
        "Each entry in `predictions` is a vector of length 46. **The** largest entry is the predicted class, i.e. the class with the highest probability:"
      ]
    },
    {
      "cell_type": "code",
      "metadata": {
        "id": "L3RyKAsw3oiB",
        "colab": {
          "base_uri": "https://localhost:8080/"
        },
        "outputId": "5794da5b-d342-45e2-cbeb-0b6cd02008e0"
      },
      "source": [
        "# TODO: evaluate model performance in terms of accuracy on prediction against the ground truth.\n",
        "loss, accuracy = model.evaluate(x_test, one_hot_test_labels)\n",
        "print(accuracy)"
      ],
      "execution_count": null,
      "outputs": [
        {
          "output_type": "stream",
          "name": "stdout",
          "text": [
            "71/71 [==============================] - 0s 6ms/step - loss: 0.9654 - accuracy: 0.7809\n",
            "0.7809438705444336\n"
          ]
        }
      ]
    },
    {
      "cell_type": "markdown",
      "metadata": {
        "id": "Pw3GlSYG3oiH"
      },
      "source": [
        "## On the importance of having sufficiently large intermediate layers\n",
        "\n",
        "\n",
        "We mentioned earlier that since our final outputs were 46-dimensional, we should avoid intermediate layers with much less than 46 hidden \n",
        "units. Now let's try to see what happens when we introduce an information bottleneck by having intermediate layers significantly less than \n",
        "46-dimensional, e.g. 4-dimensional."
      ]
    },
    {
      "cell_type": "code",
      "metadata": {
        "id": "emfKokRe3oiH",
        "colab": {
          "base_uri": "https://localhost:8080/"
        },
        "outputId": "18b06090-6dd0-44bc-e2c8-57a9133fc253"
      },
      "source": [
        "# TODO: build a neural network with 4 neuron units in the hidden layer with the validation data \n",
        "# and evaluate its performance on the test data.\n",
        "\n",
        "model = models.Sequential()\n",
        "model.add(layers.Dense(64, activation='relu', input_shape=(10000,)))\n",
        "model.add(layers.Dense(4, activation= 'relu'))\n",
        "model.add(layers.Dense(46,activation= 'softmax'))\n",
        "\n",
        "model.compile(optimizer='rmsprop', loss = 'categorical_crossentropy', metrics=['accuracy'])\n",
        "\n",
        "history = model.fit(\n",
        "    partial_x_train,\n",
        "    partial_y_train,\n",
        "    epochs= 10,\n",
        "    validation_data = (x_val, y_val)\n",
        ")\n"
      ],
      "execution_count": null,
      "outputs": [
        {
          "output_type": "stream",
          "name": "stdout",
          "text": [
            "Epoch 1/10\n",
            "250/250 [==============================] - 5s 17ms/step - loss: 2.1162 - accuracy: 0.4702 - val_loss: 1.4158 - val_accuracy: 0.6570\n",
            "Epoch 2/10\n",
            "250/250 [==============================] - 3s 13ms/step - loss: 1.2636 - accuracy: 0.7003 - val_loss: 1.2210 - val_accuracy: 0.7070\n",
            "Epoch 3/10\n",
            "250/250 [==============================] - 3s 12ms/step - loss: 1.0596 - accuracy: 0.7394 - val_loss: 1.2107 - val_accuracy: 0.7070\n",
            "Epoch 4/10\n",
            "250/250 [==============================] - 3s 12ms/step - loss: 0.9405 - accuracy: 0.7633 - val_loss: 1.1956 - val_accuracy: 0.7150\n",
            "Epoch 5/10\n",
            "250/250 [==============================] - 4s 15ms/step - loss: 0.8458 - accuracy: 0.7796 - val_loss: 1.2358 - val_accuracy: 0.7240\n",
            "Epoch 6/10\n",
            "250/250 [==============================] - 3s 12ms/step - loss: 0.7703 - accuracy: 0.8011 - val_loss: 1.2815 - val_accuracy: 0.7260\n",
            "Epoch 7/10\n",
            "250/250 [==============================] - 3s 12ms/step - loss: 0.7100 - accuracy: 0.8123 - val_loss: 1.2602 - val_accuracy: 0.7320\n",
            "Epoch 8/10\n",
            "250/250 [==============================] - 3s 12ms/step - loss: 0.6605 - accuracy: 0.8314 - val_loss: 1.3380 - val_accuracy: 0.7370\n",
            "Epoch 9/10\n",
            "250/250 [==============================] - 4s 18ms/step - loss: 0.6198 - accuracy: 0.8433 - val_loss: 1.4233 - val_accuracy: 0.7380\n",
            "Epoch 10/10\n",
            "250/250 [==============================] - 4s 15ms/step - loss: 0.5854 - accuracy: 0.8517 - val_loss: 1.5075 - val_accuracy: 0.7400\n"
          ]
        }
      ]
    },
    {
      "cell_type": "code",
      "source": [
        "result = model.evaluate(x_test, one_hot_test_labels)\n",
        "print(result)"
      ],
      "metadata": {
        "colab": {
          "base_uri": "https://localhost:8080/"
        },
        "id": "kKRWNSgYxbmY",
        "outputId": "e6974646-be0c-4e41-a917-d873d594e96d"
      },
      "execution_count": null,
      "outputs": [
        {
          "output_type": "stream",
          "name": "stdout",
          "text": [
            "71/71 [==============================] - 1s 12ms/step - loss: 1.6826 - accuracy: 0.7088\n",
            "[1.6826281547546387, 0.7088156938552856]\n"
          ]
        }
      ]
    },
    {
      "cell_type": "markdown",
      "metadata": {
        "id": "M6wV_AR23oiI"
      },
      "source": [
        "\n",
        "You should see the model performance drop. This drop is mostly due to the fact that we are now trying to compress a lot of information (enough information to recover the separation hyperplanes of 46 classes) into an intermediate space that is too low-dimensional. The network is able to cram _most_ of the necessary information into these 8-dimensional representations, but not all of it."
      ]
    },
    {
      "cell_type": "markdown",
      "metadata": {
        "id": "8bFLuR8b3oiI"
      },
      "source": [
        "## Try using larger or smaller hidden layers: 32 units, and 128 units, and see if you will be able to improve the model performance on the test data.\n"
      ]
    },
    {
      "cell_type": "code",
      "metadata": {
        "id": "B1v7pFMGrEik",
        "colab": {
          "base_uri": "https://localhost:8080/"
        },
        "outputId": "59c502af-f6ce-441a-9be0-803f4a4bf7df"
      },
      "source": [
        "# TODO: Try using larger or smaller hidden layers: 32 units, and 128 units\n",
        "\n",
        "# 32 Units\n",
        "model = models.Sequential()\n",
        "model.add(layers.Dense(64, activation='relu', input_shape=(10000,)))\n",
        "model.add(layers.Dense(32, activation= 'relu'))\n",
        "model.add(layers.Dense(46,activation= 'softmax'))\n",
        "\n",
        "model.compile(optimizer='rmsprop', loss = 'categorical_crossentropy', metrics=['accuracy'])\n",
        "\n",
        "history = model.fit(\n",
        "    partial_x_train,\n",
        "    partial_y_train,\n",
        "    epochs= 10,\n",
        "    validation_data = (x_val, y_val)\n",
        ")\n",
        "result = model.evaluate(x_test, one_hot_test_labels)\n",
        "print(result)"
      ],
      "execution_count": null,
      "outputs": [
        {
          "output_type": "stream",
          "name": "stdout",
          "text": [
            "Epoch 1/10\n",
            "250/250 [==============================] - 6s 19ms/step - loss: 1.5738 - accuracy: 0.6477 - val_loss: 1.1403 - val_accuracy: 0.7610\n",
            "Epoch 2/10\n",
            "250/250 [==============================] - 3s 13ms/step - loss: 0.8451 - accuracy: 0.8170 - val_loss: 0.9672 - val_accuracy: 0.7870\n",
            "Epoch 3/10\n",
            "250/250 [==============================] - 3s 12ms/step - loss: 0.5475 - accuracy: 0.8781 - val_loss: 0.8868 - val_accuracy: 0.8170\n",
            "Epoch 4/10\n",
            "250/250 [==============================] - 4s 15ms/step - loss: 0.3758 - accuracy: 0.9187 - val_loss: 0.9084 - val_accuracy: 0.8160\n",
            "Epoch 5/10\n",
            "250/250 [==============================] - 3s 12ms/step - loss: 0.2830 - accuracy: 0.9376 - val_loss: 0.9723 - val_accuracy: 0.8150\n",
            "Epoch 6/10\n",
            "250/250 [==============================] - 3s 11ms/step - loss: 0.2341 - accuracy: 0.9471 - val_loss: 1.0099 - val_accuracy: 0.8050\n",
            "Epoch 7/10\n",
            "250/250 [==============================] - 3s 12ms/step - loss: 0.1997 - accuracy: 0.9511 - val_loss: 1.2397 - val_accuracy: 0.7800\n",
            "Epoch 8/10\n",
            "250/250 [==============================] - 4s 16ms/step - loss: 0.1833 - accuracy: 0.9548 - val_loss: 1.1501 - val_accuracy: 0.7970\n",
            "Epoch 9/10\n",
            "250/250 [==============================] - 3s 13ms/step - loss: 0.1747 - accuracy: 0.9549 - val_loss: 1.1280 - val_accuracy: 0.8040\n",
            "Epoch 10/10\n",
            "250/250 [==============================] - 3s 13ms/step - loss: 0.1633 - accuracy: 0.9549 - val_loss: 1.1834 - val_accuracy: 0.7980\n",
            "71/71 [==============================] - 0s 4ms/step - loss: 1.3150 - accuracy: 0.7836\n",
            "[1.3150360584259033, 0.7836152911186218]\n"
          ]
        }
      ]
    },
    {
      "cell_type": "code",
      "source": [
        "# 128 Units\n",
        "model = models.Sequential()\n",
        "model.add(layers.Dense(64, activation='relu', input_shape=(10000,)))\n",
        "model.add(layers.Dense(128, activation= 'relu'))\n",
        "model.add(layers.Dense(46,activation= 'softmax'))\n",
        "\n",
        "model.compile(optimizer='rmsprop', loss = 'categorical_crossentropy', metrics=['accuracy'])\n",
        "\n",
        "history = model.fit(\n",
        "    partial_x_train,\n",
        "    partial_y_train,\n",
        "    epochs= 10,\n",
        "    validation_data = (x_val, y_val)\n",
        ")\n",
        "result = model.evaluate(x_test, one_hot_test_labels)\n",
        "print(result)"
      ],
      "metadata": {
        "colab": {
          "base_uri": "https://localhost:8080/"
        },
        "id": "-5tesxnn3892",
        "outputId": "6a8f7d2c-c2a9-486d-e9c0-8e171848ec0a"
      },
      "execution_count": null,
      "outputs": [
        {
          "output_type": "stream",
          "name": "stdout",
          "text": [
            "Epoch 1/10\n",
            "250/250 [==============================] - 5s 18ms/step - loss: 1.4360 - accuracy: 0.6884 - val_loss: 1.0643 - val_accuracy: 0.7580\n",
            "Epoch 2/10\n",
            "250/250 [==============================] - 3s 13ms/step - loss: 0.7306 - accuracy: 0.8351 - val_loss: 0.8615 - val_accuracy: 0.8090\n",
            "Epoch 3/10\n",
            "250/250 [==============================] - 3s 13ms/step - loss: 0.4443 - accuracy: 0.9032 - val_loss: 0.8469 - val_accuracy: 0.8160\n",
            "Epoch 4/10\n",
            "250/250 [==============================] - 3s 14ms/step - loss: 0.3018 - accuracy: 0.9325 - val_loss: 0.8768 - val_accuracy: 0.8240\n",
            "Epoch 5/10\n",
            "250/250 [==============================] - 4s 15ms/step - loss: 0.2433 - accuracy: 0.9449 - val_loss: 0.9642 - val_accuracy: 0.8120\n",
            "Epoch 6/10\n",
            "250/250 [==============================] - 3s 12ms/step - loss: 0.2037 - accuracy: 0.9491 - val_loss: 1.0381 - val_accuracy: 0.8050\n",
            "Epoch 7/10\n",
            "250/250 [==============================] - 3s 13ms/step - loss: 0.1825 - accuracy: 0.9529 - val_loss: 1.0712 - val_accuracy: 0.8150\n",
            "Epoch 8/10\n",
            "250/250 [==============================] - 4s 14ms/step - loss: 0.1684 - accuracy: 0.9559 - val_loss: 1.1173 - val_accuracy: 0.7960\n",
            "Epoch 9/10\n",
            "250/250 [==============================] - 4s 15ms/step - loss: 0.1559 - accuracy: 0.9548 - val_loss: 1.1173 - val_accuracy: 0.8070\n",
            "Epoch 10/10\n",
            "250/250 [==============================] - 3s 12ms/step - loss: 0.1477 - accuracy: 0.9548 - val_loss: 1.2270 - val_accuracy: 0.8050\n",
            "71/71 [==============================] - 1s 7ms/step - loss: 1.4247 - accuracy: 0.7801\n",
            "[1.4247422218322754, 0.780053436756134]\n"
          ]
        }
      ]
    },
    {
      "cell_type": "markdown",
      "metadata": {
        "id": "qJ1JPiTErD7X"
      },
      "source": [
        "\n",
        "## We were using two hidden layers. Now try to use a single hidden layer, or three hidden layers, and see if you will be able to improve the model performance on the test data.\n",
        "\n"
      ]
    },
    {
      "cell_type": "code",
      "metadata": {
        "id": "6zukIClyrh3k",
        "colab": {
          "base_uri": "https://localhost:8080/"
        },
        "outputId": "fb7bb2f1-2f48-4479-8d3b-33b27ea14151"
      },
      "source": [
        "# TODO: Try to use a single hidden layer, or three hidden layers\n",
        "# Single layer\n",
        "model = models.Sequential()\n",
        "model.add(layers.Dense(64, activation='relu', input_shape=(10000,)))\n",
        "model.add(layers.Dense(46,activation= 'softmax'))\n",
        "\n",
        "model.compile(optimizer='rmsprop', loss = 'categorical_crossentropy', metrics=['accuracy'])\n",
        "\n",
        "history = model.fit(\n",
        "    partial_x_train,\n",
        "    partial_y_train,\n",
        "    epochs= 10,\n",
        "    validation_data = (x_val, y_val)\n",
        ")\n",
        "result = model.evaluate(x_test, one_hot_test_labels)\n",
        "print(result)"
      ],
      "execution_count": null,
      "outputs": [
        {
          "output_type": "stream",
          "name": "stdout",
          "text": [
            "Epoch 1/10\n",
            "250/250 [==============================] - 4s 14ms/step - loss: 1.4706 - accuracy: 0.6899 - val_loss: 1.0231 - val_accuracy: 0.7850\n",
            "Epoch 2/10\n",
            "250/250 [==============================] - 3s 12ms/step - loss: 0.7307 - accuracy: 0.8418 - val_loss: 0.8447 - val_accuracy: 0.8270\n",
            "Epoch 3/10\n",
            "250/250 [==============================] - 4s 17ms/step - loss: 0.4636 - accuracy: 0.9007 - val_loss: 0.7860 - val_accuracy: 0.8300\n",
            "Epoch 4/10\n",
            "250/250 [==============================] - 3s 13ms/step - loss: 0.3255 - accuracy: 0.9295 - val_loss: 0.8140 - val_accuracy: 0.8290\n",
            "Epoch 5/10\n",
            "250/250 [==============================] - 3s 13ms/step - loss: 0.2509 - accuracy: 0.9412 - val_loss: 0.8440 - val_accuracy: 0.8270\n",
            "Epoch 6/10\n",
            "250/250 [==============================] - 3s 12ms/step - loss: 0.2084 - accuracy: 0.9504 - val_loss: 0.8741 - val_accuracy: 0.8320\n",
            "Epoch 7/10\n",
            "250/250 [==============================] - 4s 15ms/step - loss: 0.1797 - accuracy: 0.9536 - val_loss: 0.9208 - val_accuracy: 0.8310\n",
            "Epoch 8/10\n",
            "250/250 [==============================] - 3s 14ms/step - loss: 0.1666 - accuracy: 0.9539 - val_loss: 0.9542 - val_accuracy: 0.8260\n",
            "Epoch 9/10\n",
            "250/250 [==============================] - 3s 14ms/step - loss: 0.1558 - accuracy: 0.9560 - val_loss: 1.0418 - val_accuracy: 0.8130\n",
            "Epoch 10/10\n",
            "250/250 [==============================] - 4s 15ms/step - loss: 0.1516 - accuracy: 0.9553 - val_loss: 1.0531 - val_accuracy: 0.8130\n",
            "71/71 [==============================] - 0s 5ms/step - loss: 1.1862 - accuracy: 0.7965\n",
            "[1.1862022876739502, 0.7965271472930908]\n"
          ]
        }
      ]
    },
    {
      "cell_type": "code",
      "source": [
        "model = models.Sequential()\n",
        "model.add(layers.Dense(64, activation='relu', input_shape=(10000,)))\n",
        "model.add(layers.Dense(64, activation= 'relu'))\n",
        "model.add(layers.Dense(64, activation= 'relu'))\n",
        "model.add(layers.Dense(46,activation= 'softmax'))\n",
        "\n",
        "model.compile(optimizer='rmsprop', loss = 'categorical_crossentropy', metrics=['accuracy'])\n",
        "\n",
        "history = model.fit(\n",
        "    partial_x_train,\n",
        "    partial_y_train,\n",
        "    epochs= 10,\n",
        "    validation_data = (x_val, y_val)\n",
        ")\n",
        "result = model.evaluate(x_test, one_hot_test_labels)\n",
        "print(result)"
      ],
      "metadata": {
        "colab": {
          "base_uri": "https://localhost:8080/"
        },
        "id": "Ds9kK-Yu41bi",
        "outputId": "6806600d-a056-40b3-c1f7-708d3dfaf0a2"
      },
      "execution_count": null,
      "outputs": [
        {
          "output_type": "stream",
          "name": "stdout",
          "text": [
            "Epoch 1/10\n",
            "250/250 [==============================] - 4s 15ms/step - loss: 1.4819 - accuracy: 0.6669 - val_loss: 1.1126 - val_accuracy: 0.7460\n",
            "Epoch 2/10\n",
            "250/250 [==============================] - 3s 13ms/step - loss: 0.8010 - accuracy: 0.8172 - val_loss: 0.9744 - val_accuracy: 0.7880\n",
            "Epoch 3/10\n",
            "250/250 [==============================] - 3s 14ms/step - loss: 0.5172 - accuracy: 0.8821 - val_loss: 0.9641 - val_accuracy: 0.7950\n",
            "Epoch 4/10\n",
            "250/250 [==============================] - 4s 14ms/step - loss: 0.3579 - accuracy: 0.9204 - val_loss: 1.0312 - val_accuracy: 0.7870\n",
            "Epoch 5/10\n",
            "250/250 [==============================] - 3s 13ms/step - loss: 0.2692 - accuracy: 0.9384 - val_loss: 1.0124 - val_accuracy: 0.8140\n",
            "Epoch 6/10\n",
            "250/250 [==============================] - 3s 11ms/step - loss: 0.2260 - accuracy: 0.9461 - val_loss: 1.2923 - val_accuracy: 0.7800\n",
            "Epoch 7/10\n",
            "250/250 [==============================] - 3s 13ms/step - loss: 0.1930 - accuracy: 0.9509 - val_loss: 1.1490 - val_accuracy: 0.7970\n",
            "Epoch 8/10\n",
            "250/250 [==============================] - 4s 14ms/step - loss: 0.1803 - accuracy: 0.9538 - val_loss: 1.1668 - val_accuracy: 0.8020\n",
            "Epoch 9/10\n",
            "250/250 [==============================] - 4s 14ms/step - loss: 0.1690 - accuracy: 0.9541 - val_loss: 1.2146 - val_accuracy: 0.7940\n",
            "Epoch 10/10\n",
            "250/250 [==============================] - 3s 13ms/step - loss: 0.1547 - accuracy: 0.9569 - val_loss: 1.2377 - val_accuracy: 0.8000\n",
            "71/71 [==============================] - 0s 4ms/step - loss: 1.4513 - accuracy: 0.7841\n",
            "[1.4513356685638428, 0.784060537815094]\n"
          ]
        }
      ]
    },
    {
      "cell_type": "markdown",
      "metadata": {
        "id": "gldwCoKB3oiI"
      },
      "source": [
        "## Wrapping up\n",
        "\n",
        "\n",
        "Here's what you should take away from this example:\n",
        "\n",
        "* If you are trying to classify data points between N classes, your network should end with a `Dense` layer of size N.\n",
        "* In a single-label, multi-class classification problem, your network should end with a `softmax` activation, so that it will output a \n",
        "probability distribution over the N output classes.\n",
        "* _Categorical crossentropy_ is almost always the loss function you should use for such problems. It minimizes the distance between the \n",
        "probability distributions output by the network, and the true distribution of the targets.\n",
        "* There are two ways to handle labels in multi-class classification:\n",
        "    ** Encoding the labels via \"categorical encoding\" (also known as \"one-hot encoding\") and using `categorical_crossentropy` as your loss \n",
        "function.\n",
        "    ** Encoding the labels as integers and using the `sparse_categorical_crossentropy` loss function.\n",
        "* If you need to classify data into a large number of categories, then you should avoid creating information bottlenecks in your network by having \n",
        "intermediate layers that are too small."
      ]
    },
    {
      "cell_type": "markdown",
      "metadata": {
        "id": "aKekl-HuGXiU"
      },
      "source": [
        "## Bonus Point\n",
        "Can you think of other methods to further improve the model performance? Code it up and evaluate them."
      ]
    },
    {
      "cell_type": "code",
      "metadata": {
        "id": "38I30otcrO-r",
        "colab": {
          "base_uri": "https://localhost:8080/"
        },
        "outputId": "b435f48e-99fa-4f9e-e61a-21889f6ed37d"
      },
      "source": [
        "# TODO\n",
        "\n",
        "model = models.Sequential()\n",
        "model.add(layers.Dense(64, activation='relu', input_shape=(10000,)))\n",
        "model.add(layers.Dense(46,activation= 'softmax'))\n",
        "\n",
        "model.compile(optimizer='rmsprop', loss = 'categorical_crossentropy', metrics=['accuracy'])\n",
        "\n",
        "history = model.fit(\n",
        "    partial_x_train,\n",
        "    partial_y_train,\n",
        "    epochs= 20,\n",
        "    batch_size=512,\n",
        "    validation_data = (x_val, y_val)\n",
        ")\n",
        "result = model.evaluate(x_test, one_hot_test_labels)\n",
        "print(result)\n",
        "\n",
        "# single layer with batch size increase the accuracy slightly."
      ],
      "execution_count": null,
      "outputs": [
        {
          "output_type": "stream",
          "name": "stdout",
          "text": [
            "Epoch 1/20\n",
            "16/16 [==============================] - 2s 96ms/step - loss: 2.7082 - accuracy: 0.5510 - val_loss: 1.9609 - val_accuracy: 0.6480\n",
            "Epoch 2/20\n",
            "16/16 [==============================] - 1s 60ms/step - loss: 1.6146 - accuracy: 0.6937 - val_loss: 1.4439 - val_accuracy: 0.6950\n",
            "Epoch 3/20\n",
            "16/16 [==============================] - 1s 58ms/step - loss: 1.1914 - accuracy: 0.7590 - val_loss: 1.2005 - val_accuracy: 0.7450\n",
            "Epoch 4/20\n",
            "16/16 [==============================] - 1s 65ms/step - loss: 0.9517 - accuracy: 0.8039 - val_loss: 1.0725 - val_accuracy: 0.7680\n",
            "Epoch 5/20\n",
            "16/16 [==============================] - 1s 60ms/step - loss: 0.7899 - accuracy: 0.8379 - val_loss: 0.9843 - val_accuracy: 0.8010\n",
            "Epoch 6/20\n",
            "16/16 [==============================] - 1s 63ms/step - loss: 0.6664 - accuracy: 0.8659 - val_loss: 0.9280 - val_accuracy: 0.8080\n",
            "Epoch 7/20\n",
            "16/16 [==============================] - 1s 58ms/step - loss: 0.5703 - accuracy: 0.8876 - val_loss: 0.8858 - val_accuracy: 0.8160\n",
            "Epoch 8/20\n",
            "16/16 [==============================] - 2s 98ms/step - loss: 0.4901 - accuracy: 0.9028 - val_loss: 0.8586 - val_accuracy: 0.8140\n",
            "Epoch 9/20\n",
            "16/16 [==============================] - 2s 101ms/step - loss: 0.4262 - accuracy: 0.9121 - val_loss: 0.8419 - val_accuracy: 0.8190\n",
            "Epoch 10/20\n",
            "16/16 [==============================] - 1s 57ms/step - loss: 0.3717 - accuracy: 0.9250 - val_loss: 0.8285 - val_accuracy: 0.8170\n",
            "Epoch 11/20\n",
            "16/16 [==============================] - 1s 70ms/step - loss: 0.3290 - accuracy: 0.9323 - val_loss: 0.8161 - val_accuracy: 0.8210\n",
            "Epoch 12/20\n",
            "16/16 [==============================] - 1s 53ms/step - loss: 0.2916 - accuracy: 0.9395 - val_loss: 0.8032 - val_accuracy: 0.8270\n",
            "Epoch 13/20\n",
            "16/16 [==============================] - 1s 52ms/step - loss: 0.2596 - accuracy: 0.9427 - val_loss: 0.8084 - val_accuracy: 0.8260\n",
            "Epoch 14/20\n",
            "16/16 [==============================] - 1s 63ms/step - loss: 0.2355 - accuracy: 0.9475 - val_loss: 0.8059 - val_accuracy: 0.8280\n",
            "Epoch 15/20\n",
            "16/16 [==============================] - 1s 71ms/step - loss: 0.2150 - accuracy: 0.9488 - val_loss: 0.7986 - val_accuracy: 0.8300\n",
            "Epoch 16/20\n",
            "16/16 [==============================] - 1s 61ms/step - loss: 0.1976 - accuracy: 0.9514 - val_loss: 0.8155 - val_accuracy: 0.8190\n",
            "Epoch 17/20\n",
            "16/16 [==============================] - 1s 55ms/step - loss: 0.1808 - accuracy: 0.9535 - val_loss: 0.8143 - val_accuracy: 0.8230\n",
            "Epoch 18/20\n",
            "16/16 [==============================] - 1s 63ms/step - loss: 0.1691 - accuracy: 0.9541 - val_loss: 0.8329 - val_accuracy: 0.8190\n",
            "Epoch 19/20\n",
            "16/16 [==============================] - 1s 56ms/step - loss: 0.1589 - accuracy: 0.9555 - val_loss: 0.8312 - val_accuracy: 0.8300\n",
            "Epoch 20/20\n",
            "16/16 [==============================] - 1s 75ms/step - loss: 0.1487 - accuracy: 0.9565 - val_loss: 0.8195 - val_accuracy: 0.8220\n",
            "71/71 [==============================] - 0s 6ms/step - loss: 0.8894 - accuracy: 0.8090\n",
            "[0.8893516063690186, 0.8089937567710876]\n"
          ]
        }
      ]
    },
    {
      "cell_type": "markdown",
      "metadata": {
        "id": "l7CGM-0QrOrp"
      },
      "source": [
        "# End of HW1"
      ]
    }
  ]
}