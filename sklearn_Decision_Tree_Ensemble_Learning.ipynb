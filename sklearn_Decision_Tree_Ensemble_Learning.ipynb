{
  "nbformat": 4,
  "nbformat_minor": 0,
  "metadata": {
    "kernelspec": {
      "display_name": "Python 3",
      "language": "python",
      "name": "python3"
    },
    "language_info": {
      "codemirror_mode": {
        "name": "ipython",
        "version": 3
      },
      "file_extension": ".py",
      "mimetype": "text/x-python",
      "name": "python",
      "nbconvert_exporter": "python",
      "pygments_lexer": "ipython3",
      "version": "3.6.3"
    },
    "colab": {
      "provenance": [],
      "include_colab_link": true
    }
  },
  "cells": [
    {
      "cell_type": "markdown",
      "metadata": {
        "id": "view-in-github",
        "colab_type": "text"
      },
      "source": [
        "<a href=\"https://colab.research.google.com/github/rohjaehyung/courseworks/blob/main/sklearn_Decision_Tree_Ensemble_Learning.ipynb\" target=\"_parent\"><img src=\"https://colab.research.google.com/assets/colab-badge.svg\" alt=\"Open In Colab\"/></a>"
      ]
    },
    {
      "cell_type": "markdown",
      "metadata": {
        "id": "7bYyOjdzhs1T"
      },
      "source": [
        "# Decision Tree & Ensemble Learning\n",
        "\n",
        "Classification And Regression Trees (CART for short) is a term introduced by [Leo Breiman](https://en.wikipedia.org/wiki/Leo_Breiman) to refer to Decision Tree algorithms that can be used for classification or regression predictive modeling problems.\n",
        "\n",
        "In this lab assignment, you will implement various ways to calculate impurity which is used to split data in constructing the decision trees and apply the Decision Tree and ensemble learning algorithms to solve two real-world problems: a classification one and a regression one. "
      ]
    },
    {
      "cell_type": "code",
      "metadata": {
        "id": "WsJh8RbLhs1V"
      },
      "source": [
        "# import packages\n",
        "%matplotlib inline\n",
        "import numpy as np\n",
        "import matplotlib.pyplot as plt\n",
        "import seaborn as sns\n",
        "import pandas as pd\n",
        "from matplotlib.legend_handler import HandlerLine2D\n",
        "from sklearn.metrics import accuracy_score\n",
        "from sklearn.metrics import confusion_matrix\n",
        "from sklearn.metrics import mean_squared_error\n",
        "from sklearn.metrics import mean_absolute_error\n",
        "from sklearn.tree import DecisionTreeClassifier\n",
        "from sklearn.tree import DecisionTreeRegressor\n",
        "from sklearn.model_selection import GridSearchCV\n",
        "\n",
        "# make this notebook's output stable across runs\n",
        "np.random.seed(0)"
      ],
      "execution_count": null,
      "outputs": []
    },
    {
      "cell_type": "markdown",
      "metadata": {
        "id": "0wdJsuTqhs1a"
      },
      "source": [
        "## Gini impurity and Entropy\n"
      ]
    },
    {
      "cell_type": "markdown",
      "metadata": {
        "id": "gzfYaZ-hhs1b"
      },
      "source": [
        "#### Gini impurity\n",
        "\n",
        "The CART algorithm recursively splits the training set into two subsets using a single feature k and a threshold $t_k$. The best feature and threshold are chosen to produce the purest subsets weighted by their size. **Gini impurity** measures the impurity of the data points in a set and is used to evaluate how good a split is when the CART algorithm searches for the best pair of feature and the threshold.\n",
        "\n",
        "To compute Gini impurity for a set of items with J classes, suppose $i \\in \\{1, 2, \\dots, J\\}$ and let $p_i$ be the fraction of items labeled with class i in the set.\n",
        "\\begin{align}\n",
        "I(p) = 1 - \\sum_{i=1}^J p_i^2\n",
        "\\end{align}\n",
        "\n",
        "The following function calculates the gini impurity for a given set of data points."
      ]
    },
    {
      "cell_type": "code",
      "metadata": {
        "id": "sNexBvnehs1c"
      },
      "source": [
        "def gini_impurity(x):\n",
        "    \"\"\"\n",
        "    This function calculate the Gini impurity for a given set of data points.\n",
        "\n",
        "    Args:\n",
        "    x: a numpy ndarray\n",
        "    \"\"\"\n",
        "    unique, counts = np.unique(x, return_counts=True)\n",
        "    probabilities = counts / sum(counts)\n",
        "    gini = 1 - sum([p*p for p in probabilities])\n",
        "\n",
        "    return gini"
      ],
      "execution_count": null,
      "outputs": []
    },
    {
      "cell_type": "code",
      "metadata": {
        "id": "WmZaWVMxhs1g"
      },
      "source": [
        "np.testing.assert_equal(0, gini_impurity(np.array([1, 1, 1])))\n",
        "np.testing.assert_equal(0.5, gini_impurity(np.array([1, 0, 1, 0])))\n",
        "np.testing.assert_equal(3/4, gini_impurity(np.array(['a', 'b', 'c', 'd'])))\n",
        "np.testing.assert_almost_equal(2.0/3, gini_impurity(np.array([1, 2, 3, 1, 2, 3])))"
      ],
      "execution_count": null,
      "outputs": []
    },
    {
      "cell_type": "markdown",
      "metadata": {
        "id": "bSsc9tL7hs1k"
      },
      "source": [
        "#### Entropy\n",
        "\n",
        "Another popular measure of impurity is called **entropy**, which measures the average information content of a message. Entropy is zero when all messages are identical. When it applied to CART, a set's entropy is zero when it contains instances of only one class. Entropy is calculated as follows:\n",
        "\\begin{align}\n",
        "I(p) = - \\sum_{i=1}^J p_i log_2{p_i}\n",
        "\\end{align}\n",
        "\n",
        "<span style=\"color:orange\">**Question 1: In this exercise, you will implement the entropy function.**"
      ]
    },
    {
      "cell_type": "code",
      "metadata": {
        "id": "Wr8caP2Xhs1l"
      },
      "source": [
        "import math\n",
        "def entropy(x):\n",
        "  unique, counts = np.unique(x, return_counts=True)\n",
        "  probabilities = counts / sum(counts)\n",
        "  e = np.sum([-p * math.log2(p) for p in probabilities])\n",
        "\n",
        "  return e"
      ],
      "execution_count": null,
      "outputs": []
    },
    {
      "cell_type": "code",
      "metadata": {
        "id": "xpOdGMWDhs1p"
      },
      "source": [
        "np.testing.assert_equal(0, entropy(np.array([1, 1, 1])))\n",
        "np.testing.assert_equal(1.0, entropy(np.array([1, 0, 1, 0])))\n",
        "np.testing.assert_equal(2.0, entropy(np.array(['a', 'b', 'c', 'd'])))\n",
        "np.testing.assert_almost_equal(1.58496, entropy(np.array([1, 2, 3, 1, 2, 3])), 4)"
      ],
      "execution_count": null,
      "outputs": []
    },
    {
      "cell_type": "markdown",
      "metadata": {
        "id": "4qX1XT12hs1t"
      },
      "source": [
        "---"
      ]
    },
    {
      "cell_type": "markdown",
      "metadata": {
        "id": "EZGblkNkhs2g"
      },
      "source": [
        "## Iris dataset\n",
        "\n",
        "The Iris data set contains the morphologic variation of Iris flowers of three related species (Iris setosa, Iris virginica and Iris versicolor). Four features were measured from each observation (see image below):\n",
        "- Sepal.Length: sepal length in centimeters.\n",
        "- Sepal.Width: sepal width in centimeters.\n",
        "- Petal.Length: petal length in centimeters.\n",
        "- Petal.Width: petal width in centimeters.\n",
        "\n",
        "<table>\n",
        "  <tr>\n",
        "    <td><img src=\"https://upload.wikimedia.org/wikipedia/commons/thumb/5/56/Kosaciec_szczecinkowaty_Iris_setosa.jpg/180px-Kosaciec_szczecinkowaty_Iris_setosa.jpg\" style=\"width:250px\"></td>\n",
        "    <td><img src=\"https://www.math.umd.edu/~petersd/666/html/iris_with_labels.jpg\" width=\"250px\"></td>\n",
        "    <td><img src=\"https://upload.wikimedia.org/wikipedia/commons/thumb/9/9f/Iris_virginica.jpg/295px-Iris_virginica.jpg\" width=\"250px\"></td>\n",
        "  </tr>\n",
        "  <tr>\n",
        "    <td>Iris setosa</td>\n",
        "    <td>Iris versicolor</td>\n",
        "    <td>Iris virginica</td>\n",
        "  </tr>\n",
        "</table>\n"
      ]
    },
    {
      "cell_type": "code",
      "metadata": {
        "id": "8BfuNcWVhs2h",
        "colab": {
          "base_uri": "https://localhost:8080/"
        },
        "outputId": "30de429d-8791-4da2-e5d6-fdb7735f3482"
      },
      "source": [
        "# load the iris train and test data from CSV files\n",
        "train = pd.read_csv('https://raw.githubusercontent.com/zariable/data/master/iris_train.csv')\n",
        "test = pd.read_csv('https://raw.githubusercontent.com/zariable/data/master/iris_test.csv')\n",
        "\n",
        "train_x = train.iloc[:,0:4]\n",
        "train_y = train.iloc[:,4]\n",
        "\n",
        "test_x = test.iloc[:,0:4]\n",
        "test_y = test.iloc[:,4]\n",
        "\n",
        "# print the number of instances in each class\n",
        "print(train_y.value_counts().sort_index())\n",
        "print(test_y.value_counts().sort_index())"
      ],
      "execution_count": null,
      "outputs": [
        {
          "output_type": "stream",
          "name": "stdout",
          "text": [
            "Iris-setosa        34\n",
            "Iris-versicolor    32\n",
            "Iris-virginica     39\n",
            "Name: species, dtype: int64\n",
            "Iris-setosa        16\n",
            "Iris-versicolor    18\n",
            "Iris-virginica     11\n",
            "Name: species, dtype: int64\n"
          ]
        }
      ]
    },
    {
      "cell_type": "markdown",
      "metadata": {
        "id": "tpe8jv7Qhs2f"
      },
      "source": [
        "### Decision Tree Classifier\n",
        "\n",
        "<span style=\"color:orange\">**In this exercise, we will apply the Decision Tree classifier to classify the Iris flower data.**"
      ]
    },
    {
      "cell_type": "markdown",
      "metadata": {
        "id": "8JwQoOdPhs2j"
      },
      "source": [
        "#### Train and visualize a simple Decision Tree\n",
        "\n",
        "<span style=\"color:orange\">**Question 2: create a decision tree with max_depth of 2.**"
      ]
    },
    {
      "cell_type": "code",
      "metadata": {
        "scrolled": true,
        "id": "kQzTTFGlhs2k",
        "colab": {
          "base_uri": "https://localhost:8080/"
        },
        "outputId": "01d60a5b-ce8f-4a35-c825-8ff68101952e"
      },
      "source": [
        "# TODO: read the scikit-learn doc on DecisionTreeClassifier and train a Decision Tree with max depth of 2\n",
        "dtc = DecisionTreeClassifier(max_depth=2)\n",
        "\n",
        "dtc.fit(train_x, train_y)"
      ],
      "execution_count": null,
      "outputs": [
        {
          "output_type": "execute_result",
          "data": {
            "text/plain": [
              "DecisionTreeClassifier(max_depth=2)"
            ]
          },
          "metadata": {},
          "execution_count": 12
        }
      ]
    },
    {
      "cell_type": "markdown",
      "metadata": {
        "id": "Tn25MVpchs2n"
      },
      "source": [
        "Now let's visualize the decision tree we just trained on the iris dataset and see how it makes predictions. Note that if the following code does not work for you because the graphviz is missing, do not worry about it and you should still be able to move on."
      ]
    },
    {
      "cell_type": "code",
      "metadata": {
        "scrolled": true,
        "id": "Y80Nilx1hs2o",
        "colab": {
          "base_uri": "https://localhost:8080/",
          "height": 436
        },
        "outputId": "e67bf6a7-2642-46ae-97af-ec27bc76fbe4"
      },
      "source": [
        "from six import StringIO  \n",
        "from IPython.display import Image  \n",
        "from sklearn.tree import export_graphviz\n",
        "import pydotplus\n",
        "\n",
        "dot_data = StringIO()\n",
        "feature_names = train_x.columns\n",
        "class_names = train_y.unique()\n",
        "class_names.sort()\n",
        "export_graphviz(dtc, out_file=dot_data, feature_names=feature_names, class_names=class_names, filled=True, rounded=True)\n",
        "graph = pydotplus.graph_from_dot_data(dot_data.getvalue())  \n",
        "Image(graph.create_png())"
      ],
      "execution_count": null,
      "outputs": [
        {
          "output_type": "execute_result",
          "data": {
            "image/png": "[encoded data removed]",
            "text/plain": [
              "<IPython.core.display.Image object>"
            ]
          },
          "metadata": {},
          "execution_count": 13
        }
      ]
    },
    {
      "cell_type": "markdown",
      "metadata": {
        "id": "ZgqeLw6Lhs2t"
      },
      "source": [
        "Decision trees are easy to inteprete and is often referred to as *whitebox* machine learning algorithm. Let's see how this decision tree represented above makes predictions. Suppose you find an iris flower and want to classify it into setosa, versicolor or virginica. You start at the root node (the very top node in the tree). In this node, we check if the flower's patel length is smaller than or equal to 2.35 cm. If it is, we move to the left child and predict setosa to be its class. Otherwise, we move to the right child node. Then similarly we check if the petal length is smaller than or equal to 4.95 cm. If it is, we move to its left child node and predict versicolor to be its class. Otherwise, we move to its right child and predict virginica to be its class. "
      ]
    },
    {
      "cell_type": "markdown",
      "metadata": {
        "id": "W94pWMvIhs2t"
      },
      "source": [
        "#### Prediction with Decision tree\n",
        "\n",
        "With this simple decision tree above, we can apply it to make predictions on the test dataset and evaluate its performance.\n",
        "\n",
        "<span style=\"color:orange\">**Question 3: make prediction using the trained decision tree model on the test data.**"
      ]
    },
    {
      "cell_type": "code",
      "metadata": {
        "id": "ugRPudSThs2u",
        "colab": {
          "base_uri": "https://localhost:8080/"
        },
        "outputId": "aad9179a-d613-4834-edd0-47a1e70b09cd"
      },
      "source": [
        "# TODO: use the trained decision tree model to make predictions on the test data and evaluate the model performance.\n",
        "train_z = dtc.predict(train_x)\n",
        "train_z_prob = dtc.predict_proba(train_x)[:,1]\n",
        "\n",
        "test_z = dtc.predict(test_x)\n",
        "test_z_prob = dtc.predict_proba(test_x)[:,1]\n",
        "\n",
        "\n",
        "\n",
        "print(\"model accuracy: {}\".format(accuracy_score(test_y, test_z)))\n",
        "print(\"model confusion matrix:\\n {}\".format(confusion_matrix(test_y, test_z, labels=['Iris-setosa', 'Iris-versicolor', 'Iris-virginica'])))"
      ],
      "execution_count": null,
      "outputs": [
        {
          "output_type": "stream",
          "name": "stdout",
          "text": [
            "model accuracy: 0.9111111111111111\n",
            "model confusion matrix:\n",
            " [[16  0  0]\n",
            " [ 0 17  1]\n",
            " [ 0  3  8]]\n"
          ]
        }
      ]
    },
    {
      "cell_type": "markdown",
      "metadata": {
        "id": "RMzcZjQQhs2x"
      },
      "source": [
        "#### Hyper-parameters\n",
        "\n",
        "Hyper-parameter controls the complexity of the decision tree model. For example, the deeper the tree is, the more complex patterns the model will be able to capture. In this exercise, we train the decision trees with increasing number of maximum depth and plot its performance. We should see the accuracy of the training data increase as the tree grows deeper, but the accuracy on the test data might not as the model will eventually start to overfit and does not generalize well on the unseen test data.\n",
        "\n",
        "<span style=\"color:orange\">**Question 4: for each value of max_depth, we train a decision tree model and evaluate its accuracy on both train and test data, and plot both accuracies in the figure.**"
      ]
    },
    {
      "cell_type": "code",
      "metadata": {
        "id": "uw23r_MXhs2x",
        "colab": {
          "base_uri": "https://localhost:8080/",
          "height": 279
        },
        "outputId": "15a1b7aa-8522-41a5-e2fc-e9744e18f8ee"
      },
      "source": [
        "# TODO: train the decision tree model with various max_depth, make predictions and evaluate on both train and test data.\n",
        "\n",
        "max_depth = [1,2,3,4]\n",
        "\n",
        "for max_depth in max_depth:\n",
        "  dtc_1 = DecisionTreeClassifier(max_depth = max_depth)\n",
        "  dtc_1.fit(train_x, train_y)\n",
        "  y_train_pred = dtc_1.predict(train_x)\n",
        "  y_test_pred = dtc_1.predict(test_x)\n",
        "  train_accuracy = accuracy_score(train_y, y_train_pred)\n",
        "  test_accuracy = accuracy_score(test_y, y_test_pred)\n",
        "  plt.plot([max_depth], [train_accuracy], 'ro', label = 'Train Accuracy')\n",
        "  plt.plot([max_depth], [test_accuracy], 'bo', label = 'Test Accuracy')\n",
        "\n",
        "\n",
        "plt.xlabel('Max Depth')\n",
        "plt.ylabel('Accuracy')\n",
        "plt.legend()\n",
        "plt.show()\n"
      ],
      "execution_count": null,
      "outputs": [
        {
          "output_type": "display_data",
          "data": {
            "text/plain": [
              "<Figure size 432x288 with 1 Axes>"
            ],
            "image/png": "[encoded data removed]"
          },
          "metadata": {
            "needs_background": "light"
          }
        }
      ]
    },
    {
      "cell_type": "markdown",
      "metadata": {
        "id": "2iaLr1ufhs20"
      },
      "source": [
        "#### Fine-tune the decision tree classifier\n",
        "\n",
        "Decision tree is a very powerful model with very few assumptions about the incoming training data (unlike linear models, which assume the data linear), however, it is more likely to overfit the data and won't generalize well to unseen data. To void overfitting, we need to restrict the decision tree's freedom during training via regularization (e.g. max_depth, min_sample_split, max_leaf_nodes and etc.).\n",
        "\n",
        "To fine-tune the model and combat overfitting, use grid search with cross-validation (with the help of the GridSearchCV class) to find the best hyper-parameter settings for the DecisionTreeClassifier. In particular, we would like to fine-tune the following hyper-parameters:\n",
        "- **criteria**: this defines how we measure the quality of a split. we can choose either \"gini\" for the Gini impurity or \"entropy\" for the information gain.\n",
        "- **max_depth**: the maximum depth of the tree. This indicates how deep the tree can be. The deeper the tree, the more splits it has and it captures more information about the data. But meanwhile, deeper trees are more likely to overfit the data. For this practice, we will choose from {1, 2, 3} given there are only 4 features in the iris dataset.\n",
        "- **min_samples_split**: This value represents the minimum number of samples required to split an internal node. The smaller this value is, the deeper the tree will grow, thus more likely to overfit. On the other hand, if the value is really large (the size of the training data in the extreme case), the tree will be very shallow and could suffer from underfit. In this practice, we choose from {0.01, 0.05, 0.1, 0.2}.\n",
        "\n",
        "<span style=\"color:orange\">**Question 5: Use grid search with 3-fold cross-validation to fine-tune the decision tree model and output the best hyper-parameters.**"
      ]
    },
    {
      "cell_type": "code",
      "metadata": {
        "id": "9fuI5TWkhs21",
        "colab": {
          "base_uri": "https://localhost:8080/"
        },
        "outputId": "4b17f5cc-a32f-4d73-ea5c-8078f570ae1a"
      },
      "source": [
        "# TODO: fine-tune the model, use grid search with 3-fold cross-validation.\n",
        "parameters = {\n",
        "    \"max_depth\": [2,3,4],\n",
        "    \"min_samples_split\":[0.05, 0.1, 0.2]\n",
        "}\n",
        "\n",
        "dt = DecisionTreeClassifier()\n",
        "grid = GridSearchCV(dt, parameters, cv =3)\n",
        "grid.fit(train_x, train_y)\n",
        "\n",
        "# summarize the results of the grid search\n",
        "print(\"The best score is {}\".format(grid.best_score_))\n",
        "print(\"The best hyper parameter setting is {}\".format(grid.best_params_))"
      ],
      "execution_count": null,
      "outputs": [
        {
          "output_type": "stream",
          "name": "stdout",
          "text": [
            "The best score is 0.9619047619047619\n",
            "The best hyper parameter setting is {'max_depth': 3, 'min_samples_split': 0.05}\n"
          ]
        }
      ]
    },
    {
      "cell_type": "markdown",
      "metadata": {
        "id": "ZXeHA4TThs24"
      },
      "source": [
        "#### Prediction and Evaluation\n",
        "\n",
        "Now we have a fine-tuned decision tree classifier based on the training data, let's apply this model to make predictions on the test data and evaluate its performance."
      ]
    },
    {
      "cell_type": "code",
      "metadata": {
        "id": "pzGEUWFPhs24",
        "colab": {
          "base_uri": "https://localhost:8080/"
        },
        "outputId": "5fa817a3-06ea-4175-df89-001f153fe7aa"
      },
      "source": [
        "grid.predict(test_x)\n",
        "\n",
        "print(\"model accuracy: {}\".format(accuracy_score(test_y, test_z)))\n",
        "print(\"model confusion matrix:\\n {}\".format(confusion_matrix(test_y, test_z, labels=['Iris-setosa', 'Iris-versicolor', 'Iris-virginica'])))"
      ],
      "execution_count": null,
      "outputs": [
        {
          "output_type": "stream",
          "name": "stdout",
          "text": [
            "model accuracy: 0.9111111111111111\n",
            "model confusion matrix:\n",
            " [[16  0  0]\n",
            " [ 0 17  1]\n",
            " [ 0  3  8]]\n"
          ]
        }
      ]
    },
    {
      "cell_type": "markdown",
      "metadata": {
        "id": "fLrLCXpbIHI2"
      },
      "source": [
        "### Random Forest\n",
        "\n",
        "**Question 6: Apply Random Forest together with Gridsearch to the Iris dataset and evaluate its accuracy.**"
      ]
    },
    {
      "cell_type": "code",
      "metadata": {
        "id": "UTzDdKnoIDM1",
        "colab": {
          "base_uri": "https://localhost:8080/"
        },
        "outputId": "30a12047-beca-4a35-daee-6d24960459d6"
      },
      "source": [
        "### TODO \n",
        "from sklearn.ensemble import RandomForestClassifier\n",
        "from sklearn.metrics import accuracy_score\n",
        "from sklearn.metrics import roc_auc_score\n",
        "\n",
        "rfc = RandomForestClassifier(n_jobs= -1, random_state=0)\n",
        "parameters = {\n",
        "    'n_estimators' : [20,40],\n",
        "    'max_depth' : [2,4],\n",
        "    'min_samples_split': [0.05, 0.1, 0.2]\n",
        "}\n",
        "\n",
        "rfc_grid = GridSearchCV(RandomForestClassifier(n_jobs=-1, random_state=0), parameters, cv = 3)\n",
        "rfc_grid.fit(train_x, train_y)\n",
        "\n",
        "# summarize the results of the grid search\n",
        "print(\"The best score is {}\".format(rfc_grid.best_score_))\n",
        "print(\"The best hyper parameter setting is {}\".format(rfc_grid.best_params_))\n",
        "\n",
        "test_z = rfc_grid.predict(test_x)\n",
        "print(\"The Model Accuracy : {}\".format(accuracy_score(test_y, test_z)))"
      ],
      "execution_count": null,
      "outputs": [
        {
          "output_type": "stream",
          "name": "stdout",
          "text": [
            "The best score is 0.9619047619047619\n",
            "The best hyper parameter setting is {'max_depth': 2, 'min_samples_split': 0.05, 'n_estimators': 40}\n",
            "The Model Accuracy : 0.9555555555555556\n"
          ]
        }
      ]
    },
    {
      "cell_type": "markdown",
      "metadata": {
        "id": "VKgNC7kzIWNC"
      },
      "source": [
        "### Adaboost\n",
        "\n",
        "**Question 7: Apply Adaboost together with Gridsearch to the Iris dataset and evaluate its accuracy.**"
      ]
    },
    {
      "cell_type": "code",
      "metadata": {
        "id": "hDcP-xy_IXFF",
        "colab": {
          "base_uri": "https://localhost:8080/"
        },
        "outputId": "8da2ed4b-ec8c-4c95-8ab5-1197fce8f934"
      },
      "source": [
        "### TODO \n",
        "from sklearn.ensemble import AdaBoostClassifier\n",
        "\n",
        "parameters = {\n",
        "    'n_estimators' : [20,40],\n",
        "    'learning_rate': [0.01, 0.1, 1, 10]\n",
        "}\n",
        "\n",
        "adaboost = AdaBoostClassifier(DecisionTreeClassifier(max_depth = 4), random_state = 0)\n",
        "adaboost_grid = GridSearchCV(adaboost, parameters, cv = 3)\n",
        "adaboost_grid.fit(train_x, train_y)\n",
        "test_z = adaboost_grid.predict(test_x)\n",
        "\n",
        "print(\"The model accuracy :{}\".format(accuracy_score(test_y,test_z)))"
      ],
      "execution_count": null,
      "outputs": [
        {
          "output_type": "stream",
          "name": "stdout",
          "text": [
            "The model accuracy :0.9777777777777777\n"
          ]
        }
      ]
    },
    {
      "cell_type": "markdown",
      "metadata": {
        "id": "tpZFN60NIWdK"
      },
      "source": [
        "### Gradient Boosting\n",
        "\n",
        "**Question 8: Apply Boosting together with Gridsearch to the Iris dataset and evaluate its accuracy.**"
      ]
    },
    {
      "cell_type": "code",
      "metadata": {
        "id": "mmRcvEkSIXrR",
        "colab": {
          "base_uri": "https://localhost:8080/"
        },
        "outputId": "41ed2f59-68e1-4a66-cdd6-518ee4bf8593"
      },
      "source": [
        "### TODO \n",
        "from sklearn.ensemble import GradientBoostingClassifier\n",
        "\n",
        "parameters = {\n",
        "    'loss' : ['deviance'], \n",
        "    'learning_rate': [0.01, 0.1],\n",
        "    'min_samples_split': [0.05, 0.1, 0.2],\n",
        "    'max_depth' : [2,4], \n",
        "    'n_estimators' :[100]\n",
        "}\n",
        "\n",
        "gbc = GradientBoostingClassifier(random_state=0)\n",
        "gbc_grid = GridSearchCV(gbc, parameters, cv = 3, n_jobs = -1)\n",
        "gbc_grid.fit(train_x, train_y)\n",
        "test_z = gbc_grid.predict(test_x)\n",
        "\n",
        "print(\"The model accuracy :{}\".format(accuracy_score(test_y,test_z)))"
      ],
      "execution_count": null,
      "outputs": [
        {
          "output_type": "stream",
          "name": "stdout",
          "text": [
            "The model accuracy :0.9777777777777777\n"
          ]
        }
      ]
    },
    {
      "cell_type": "markdown",
      "metadata": {
        "id": "aTlPSt2Uhs26"
      },
      "source": [
        "---"
      ]
    },
    {
      "cell_type": "markdown",
      "metadata": {
        "id": "oyoZxHnxHknE"
      },
      "source": [
        "**BONUS POINT: we will apply the supervised learning models we learnt so far to predict the California housing prices.**"
      ]
    },
    {
      "cell_type": "markdown",
      "metadata": {
        "id": "3odrweXdhs28"
      },
      "source": [
        "## California Housing Dataset\n",
        "\n",
        "The California Housing dataset appeared in a 1997 paper titled Sparse Spatial Autoregressions by Pace, R. Kelley and Ronald Barry, published in the Statistics and Probability Letters journal. They built it using the 1990 California census data. It contains one row per census block group. A block group is the smallest geographical unit for which the U.S. Census Bureau publishes sample data (a block group typically has a population of 600 to 3,000 people). "
      ]
    },
    {
      "cell_type": "code",
      "metadata": {
        "id": "8zXK2RFshs29",
        "colab": {
          "base_uri": "https://localhost:8080/"
        },
        "outputId": "76749a36-f6b3-4ba3-ee44-984003d470b7"
      },
      "source": [
        "# Load train and test data from CSV files.\n",
        "train = pd.read_csv('https://raw.githubusercontent.com/zariable/data/master/housing_train.csv')\n",
        "test = pd.read_csv('https://raw.githubusercontent.com/zariable/data/master/housing_test.csv')\n",
        "\n",
        "train_x = train.iloc[:,0:8]\n",
        "train_y = train.iloc[:,8]\n",
        "\n",
        "test_x = test.iloc[:,0:8]\n",
        "test_y = test.iloc[:,8]\n",
        "\n",
        "print(\"Number of train data: {}\".format(len(train_y)))\n",
        "print(\"Number of test data: {}\".format(len(test_y)))"
      ],
      "execution_count": null,
      "outputs": [
        {
          "output_type": "stream",
          "name": "stdout",
          "text": [
            "Number of train data: 14448\n",
            "Number of test data: 6192\n"
          ]
        }
      ]
    },
    {
      "cell_type": "markdown",
      "metadata": {
        "id": "Q-zitGTxhs3E"
      },
      "source": [
        "### End of Assignment 2\n",
        "---\n"
      ]
    }
  ]
}